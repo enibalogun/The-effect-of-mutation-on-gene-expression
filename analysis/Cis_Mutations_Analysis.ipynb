{
 "cells": [
  {
   "cell_type": "markdown",
   "id": "similar-picture",
   "metadata": {
    "toc": true
   },
   "source": [
    "<h1>Table of Contents<span class=\"tocSkip\"></span></h1>\n",
    "<div class=\"toc\"><ul class=\"toc-item\"><li><span><a href=\"#Keys\" data-toc-modified-id=\"Keys-1\"><span class=\"toc-item-num\">1&nbsp;&nbsp;</span>Keys</a></span></li><li><span><a href=\"#Isolating-the-mutations-enriched-in-exons,-cds,-utr's\" data-toc-modified-id=\"Isolating-the-mutations-enriched-in-exons,-cds,-utr's-2\"><span class=\"toc-item-num\">2&nbsp;&nbsp;</span>Isolating the mutations enriched in exons, cds, utr's</a></span><ul class=\"toc-item\"><li><span><a href=\"#Observed-distribution\" data-toc-modified-id=\"Observed-distribution-2.1\"><span class=\"toc-item-num\">2.1&nbsp;&nbsp;</span>Observed distribution</a></span></li><li><span><a href=\"#Distribution-of-the-locations-of-simulated-mutations-across-the-genome\" data-toc-modified-id=\"Distribution-of-the-locations-of-simulated-mutations-across-the-genome-2.2\"><span class=\"toc-item-num\">2.2&nbsp;&nbsp;</span>Distribution of the locations of simulated mutations across the genome</a></span></li><li><span><a href=\"#Plots\" data-toc-modified-id=\"Plots-2.3\"><span class=\"toc-item-num\">2.3&nbsp;&nbsp;</span>Plots</a></span></li></ul></li><li><span><a href=\"#Helper-Functions\" data-toc-modified-id=\"Helper-Functions-3\"><span class=\"toc-item-num\">3&nbsp;&nbsp;</span>Helper Functions</a></span><ul class=\"toc-item\"><li><span><a href=\"#Gene-names-and-positions\" data-toc-modified-id=\"Gene-names-and-positions-3.1\"><span class=\"toc-item-num\">3.1&nbsp;&nbsp;</span>Gene names and positions</a></span></li><li><span><a href=\"#Identifying-differentially-expressed-genes-(DEGs)\" data-toc-modified-id=\"Identifying-differentially-expressed-genes-(DEGs)-3.2\"><span class=\"toc-item-num\">3.2&nbsp;&nbsp;</span>Identifying differentially expressed genes (DEGs)</a></span></li><li><span><a href=\"#Isolate-observed-mutations\" data-toc-modified-id=\"Isolate-observed-mutations-3.3\"><span class=\"toc-item-num\">3.3&nbsp;&nbsp;</span>Isolate observed mutations</a></span></li></ul></li><li><span><a href=\"#Finding-potential-cis-mutations\" data-toc-modified-id=\"Finding-potential-cis-mutations-4\"><span class=\"toc-item-num\">4&nbsp;&nbsp;</span>Finding potential <i>cis</i> mutations</a></span><ul class=\"toc-item\"><li><span><a href=\"#Script-can-be-found-&quot;scripts/cis_mutations.py&quot;\" data-toc-modified-id=\"Script-can-be-found-&quot;scripts/cis_mutations.py&quot;-4.1\"><span class=\"toc-item-num\">4.1&nbsp;&nbsp;</span>Script can be found \"scripts/cis_mutations.py\"</a></span></li><li><span><a href=\"#Plots\" data-toc-modified-id=\"Plots-4.2\"><span class=\"toc-item-num\">4.2&nbsp;&nbsp;</span>Plots</a></span></li><li><span><a href=\"#P-value-distribution\" data-toc-modified-id=\"P-value-distribution-4.3\"><span class=\"toc-item-num\">4.3&nbsp;&nbsp;</span><i>P</i> value distribution</a></span></li></ul></li><li><span><a href=\"#Distribution-of-the-expression-change-of-potential-cis-mutations\" data-toc-modified-id=\"Distribution-of-the-expression-change-of-potential-cis-mutations-5\"><span class=\"toc-item-num\">5&nbsp;&nbsp;</span>Distribution of the expression change of potential <i>cis</i> mutations</a></span></li></ul></div>"
   ]
  },
  {
   "cell_type": "markdown",
   "id": "elementary-banner",
   "metadata": {},
   "source": [
    "# Keys"
   ]
  },
  {
   "cell_type": "code",
   "execution_count": 1,
   "id": "julian-emerald",
   "metadata": {},
   "outputs": [],
   "source": [
    "%matplotlib inline\n",
    "import matplotlib.pyplot as plt\n",
    "from Bio import SeqIO\n",
    "import random, glob\n",
    "import json\n",
    "import pandas as pd\n",
    "import numpy as np\n",
    "import math\n",
    "import matplotlib.pyplot as plt\n",
    "from matplotlib.figure import Figure\n",
    "from matplotlib.ticker import MaxNLocator\n",
    "from matplotlib.gridspec import GridSpec\n",
    "import seaborn as sns\n",
    "import scipy\n",
    "from scipy import stats\n",
    "from scipy.stats import mannwhitneyu\n",
    "stats.junk = lambda chisq, df: stats.chi2.sf(chisq, df)\n",
    "import csv\n",
    "import gffpandas.gffpandas as gffpd\n",
    "import statsmodels.formula.api as smf\n",
    "from statsmodels.formula.api import ols\n",
    "\n",
    "CC2344 = [\"CC2344-L1\", \"CC2344-L2\", \"CC2344-L3\", \"CC2344-L4\", \"CC2344-L5\", \"CC2344-L6\", \"CC2344-L7\", \"CC2344-L8\", \"CC2344-L9\", \"CC2344-L10\", \"CC2344-L11\", \"CC2344-L12\", \"CC2344-L13\", \"CC2344-L14\", \"CC2344-L15\"]\n",
    "CC2931 = [\"CC2931-L1\", \"CC2931-L2\", \"CC2931-L3\", \"CC2931-L4\", \"CC2931-L5\", \"CC2931-L6\", \"CC2931-L7\", \"CC2931-L9\", \"CC2931-L10\", \"CC2931-L11\", \"CC2931-L13\", \"CC2931-L14\", \"CC2931-L15\"]\n",
    "\n",
    "#### Dataframe recording the generation time per sample ####\n",
    "dic_gen = {}\n",
    "generation = pd.read_csv('/research/projects/chlamydomonas/MAexpression/genome_info/mutation_info/Mutation_Fitness.txt', delimiter = '\\t')\n",
    "generation['Sample'] = generation['Sample'].str.replace('_', '-L')\n",
    "generation = generation.loc[generation['Sample'].isin(CC2344 + CC2931)]\n",
    "\n",
    "for i in generation.index.values:\n",
    "    dic_gen[generation.at[i,'Sample']] = generation.at[i, 'Generation']\n",
    "generations = pd.Series(dic_gen)\n",
    "\n",
    "#### Dataframe recording the number of mutations per sample ####\n",
    "mutations = pd.read_csv('/research/projects/chlamydomonas/MAexpression/genome_info/mutation_info/all_mutations.csv', delimiter = '\\t')\n",
    "dic_mut = {maline:mutations.loc[mutations['sample'] == maline].count()[0] for maline in mutations['sample'].values.tolist()}"
   ]
  },
  {
   "cell_type": "markdown",
   "id": "criminal-strap",
   "metadata": {},
   "source": [
    "# Isolating the mutations enriched in exons, cds, utr's"
   ]
  },
  {
   "cell_type": "markdown",
   "id": "likely-somerset",
   "metadata": {},
   "source": [
    "## Observed distribution "
   ]
  },
  {
   "cell_type": "code",
   "execution_count": 34,
   "id": "trained-spank",
   "metadata": {
    "scrolled": true
   },
   "outputs": [
    {
     "data": {
      "text/plain": [
       "(array([0, 1, 2, 3]),\n",
       " [Text(0, 0, 'CDS'),\n",
       "  Text(1, 0, 'intron'),\n",
       "  Text(2, 0, 'three_prime_UTR'),\n",
       "  Text(3, 0, 'five_prime_UTR')])"
      ]
     },
     "execution_count": 34,
     "metadata": {},
     "output_type": "execute_result"
    },
    {
     "data": {
      "image/png": "[encoded data removed]",
      "text/plain": [
       "<Figure size 432x288 with 1 Axes>"
      ]
     },
     "metadata": {
      "needs_background": "light"
     },
     "output_type": "display_data"
    },
    {
     "data": {
      "image/png": "[encoded data removed]",
      "text/plain": [
       "<Figure size 432x288 with 1 Axes>"
      ]
     },
     "metadata": {
      "needs_background": "light"
     },
     "output_type": "display_data"
    }
   ],
   "source": [
    "CC2344 = [\"CC2344-L1\", \"CC2344-L2\", \"CC2344-L3\", \"CC2344-L4\", \"CC2344-L5\", \"CC2344-L6\", \"CC2344-L7\", \"CC2344-L8\", \"CC2344-L9\", \"CC2344-L10\", \"CC2344-L11\", \"CC2344-L12\", \"CC2344-L13\", \"CC2344-L14\", \"CC2344-L15\"]\n",
    "CC2931 = [\"CC2931-L1\", \"CC2931-L2\", \"CC2931-L3\", \"CC2931-L4\", \"CC2931-L5\", \"CC2931-L6\", \"CC2931-L7\", \"CC2931-L9\", \"CC2931-L10\", \"CC2931-L11\", \"CC2931-L13\", \"CC2931-L14\", \"CC2931-L15\"]\n",
    "\n",
    "DEGs = pd.read_csv('/research/projects/chlamydomonas/MAexpression/analysis/DEGs/total_genes1.csv', delimiter = ',').reset_index()\n",
    "DEGs = pd.melt(DEGs, id_vars = ['index'], value_vars = CC2344 + CC2931).dropna()\n",
    "\n",
    "### Identifying the location of mutations within genes ####\n",
    "mutations = pd.read_csv('/research/projects/chlamydomonas/MAexpression/genome_info/mutation_info/all_mutations.csv', delimiter = '\\t')\n",
    "mutations['type'] = 'intron'\n",
    "mutations['type_categories'] = 'intron'\n",
    "\n",
    "annotation = pd.read_csv('/research/projects/chlamydomonas/MAexpression/analysis/annotation/edited_v6_annotation.csv', delimiter = '\\t')\n",
    "\n",
    "for i in mutations.index.values:\n",
    "    if mutations.at[i, 'gene'] == 'intergenic':\n",
    "        mutations.at[i, 'type'] = 'intergenic'\n",
    "        mutations.at[i, 'type_categories'] = 'intergenic'\n",
    "    else:\n",
    "        section = annotation.loc[annotation['genename'] == mutations.at[i, 'gene']]\n",
    "        exon = section.loc[section['type'] == 'exon']\n",
    "        for a in exon.index.values:\n",
    "            if exon.at[a, 'start'] <= mutations.at[i, 'start'] and mutations.at[i, 'end'] <= exon.at[a, 'end']:\n",
    "                mutations.at[i, 'type'] = 'exon'\n",
    "        five_prime_UTR = section.loc[section['type'] == 'five_prime_UTR']\n",
    "        for a in five_prime_UTR.index.values:\n",
    "            if five_prime_UTR.at[a, 'start'] <= mutations.at[i, 'start'] and mutations.at[i, 'end'] <= five_prime_UTR.at[a, 'end']:\n",
    "                mutations.at[i, 'type_categories'] = 'five_prime_UTR'\n",
    "        three_prime_UTR = section.loc[section['type'] == 'three_prime_UTR']\n",
    "        for a in three_prime_UTR.index.values:\n",
    "            if three_prime_UTR.at[a, 'start'] <= mutations.at[i, 'start'] and mutations.at[i, 'end'] <= three_prime_UTR.at[a, 'end']:\n",
    "                mutations.at[i, 'type_categories'] = 'three_prime_UTR'\n",
    "        cds = section.loc[section['type'] == 'CDS']\n",
    "        for a in cds.index.values:\n",
    "            if cds.at[a, 'start'] <= mutations.at[i, 'start'] and mutations.at[i, 'end'] <= cds.at[a, 'end']:\n",
    "                mutations.at[i, 'type_categories'] = 'CDS'\n",
    "mutations.to_csv('/research/projects/chlamydomonas/MAexpression/genome_info/mutation_info/mutation_enriched_regions.csv', sep = '\\t', header = True, index = False)\n",
    "\n",
    "#### Distribution of mutations enriched in degs ####\n",
    "enriched_DEGs = pd.DataFrame()\n",
    "for i in CC2344 + CC2931:\n",
    "    sample = DEGs.loc[DEGs['variable'] == i]['value'].values.tolist()\n",
    "    spec_mut = mutations.loc[(mutations['gene'].isin(sample)) & (mutations['sample'] == i)]\n",
    "    enriched_DEGs[i] = spec_mut['type_categories'].value_counts()\n",
    "enriched_DEGs = enriched_DEGs.replace(np.nan, 0, regex = True)\n",
    "enriched_DEGs['sum'] = enriched_DEGs.sum(axis = 1)\n",
    "\n",
    "#### Plots ####\n",
    "ax = sns.histplot(data = mutations, x = 'type_categories')\n",
    "for p in ax.patches:\n",
    "    txt = p.get_height()\n",
    "    x = p.get_x()\n",
    "    y = p.get_height()\n",
    "    ax.text(x, y, str((txt/2613).round(2)))\n",
    "plt.title('Distribution of mutations enriched in genes')\n",
    "plt.xticks(rotation=90)\n",
    "\n",
    "plt.figure()\n",
    "ax1 = sns.barplot(data = enriched_DEGs.reset_index(), x = 'index', y = 'sum')\n",
    "for a in ax1.patches:\n",
    "    txt = a.get_height()\n",
    "    x = a.get_x()\n",
    "    y = a.get_height()\n",
    "    ax1.text(x, y, str((txt/enriched_DEGs['sum'].sum()).round(2)))\n",
    "plt.ylabel('Count')\n",
    "plt.title('Distribution of mutations enriched in DEGs')\n",
    "plt.xticks(rotation=90)"
   ]
  },
  {
   "cell_type": "markdown",
   "id": "strategic-asian",
   "metadata": {},
   "source": [
    "## Distribution of the locations of simulated mutations across the genome"
   ]
  },
  {
   "cell_type": "markdown",
   "id": "accurate-symphony",
   "metadata": {},
   "source": [
    "The complete list of observed mutations were simulated in 1000 trials and their location in the genome was assigned"
   ]
  },
  {
   "cell_type": "code",
   "execution_count": 40,
   "id": "apparent-curtis",
   "metadata": {},
   "outputs": [],
   "source": [
    "CC2344 = [\"CC2344-L1\", \"CC2344-L2\", \"CC2344-L3\", \"CC2344-L4\", \"CC2344-L5\", \"CC2344-L6\", \"CC2344-L7\", \"CC2344-L8\", \"CC2344-L9\", \"CC2344-L10\", \"CC2344-L11\", \"CC2344-L12\", \"CC2344-L13\", \"CC2344-L14\", \"CC2344-L15\"]\n",
    "CC2931 = [\"CC2931-L1\", \"CC2931-L2\", \"CC2931-L3\", \"CC2931-L4\", \"CC2931-L5\", \"CC2931-L6\", \"CC2931-L7\", \"CC2931-L9\", \"CC2931-L10\", \"CC2931-L11\", \"CC2931-L13\", \"CC2931-L14\", \"CC2931-L15\"]\n",
    "\n",
    "distribution = pd.DataFrame()\n",
    "\n",
    "#### Importing degs ####\n",
    "DEGs = pd.read_csv('/research/projects/chlamydomonas/MAexpression/analysis/DEGs/total_genes1.csv', delimiter = ',').reset_index()\n",
    "DEGs = pd.melt(DEGs, id_vars = ['index'], value_vars = CC2344 + CC2931).dropna()\n",
    "\n",
    "#### Importing the annotation of genes in version 6 reference genome ####\n",
    "type_gene = pd.read_csv('/research/projects/chlamydomonas/MAexpression/analysis/annotation/v6_genes.csv', delimiter = '\\t')\n",
    "annotation = pd.read_csv('/research/projects/chlamydomonas/MAexpression/analysis/annotation/edited_v6_annotation.csv', delimiter = '\\t')\n",
    "\n",
    "#### Importing the total number of bases per chromosome ####\n",
    "base_counts = pd.read_csv('/research/projects/chlamydomonas/MAexpression/genome_info/chrom_base_count', skiprows=2, delimiter = '\\t', index_col = 'chromosome')\n",
    "\n",
    "### Importing all mutations per MA sample ####\n",
    "mutations = pd.read_csv('/research/projects/chlamydomonas/MAexpression/genome_info/mutation_info/all_mutations.csv', delimiter = '\\t')\n",
    "mutations['type'] = 'intron'\n",
    "mutations['type_categories'] = 'intron'\n",
    "\n",
    "for trials in range(1,3):\n",
    "    #### Creating simulated mutations ####\n",
    "    simulated_mutations = mutations\n",
    "    simulated_mutations['gene'] = 'intergenic'\n",
    "    simulated_mutations['gene_start'] = np.nan\n",
    "    simulated_mutations['gene_end'] = np.nan\n",
    "\n",
    "    #### Randomly choosing mutations across the genome ####\n",
    "    for b in simulated_mutations.index.values:\n",
    "        chrom = np.random.choice(list(base_counts.index.values), 1, replace = True)\n",
    "        location = np.random.randint(1, base_counts.at[chrom[0], 'base_counts'])\n",
    "        simulated_mutations.at[b, 'chromosome'] = chrom[0]\n",
    "        simulated_mutations.at[b, 'start'] = location\n",
    "        simulated_mutations.at[b, 'end'] = location + 1\n",
    "\n",
    "    #### Finding the location of each mutation ####\n",
    "    for i in list(simulated_mutations.index.values):\n",
    "        spec_chrom = type_gene.loc[type_gene['seq_id'] == simulated_mutations.at[i, 'chromosome']]\n",
    "        spec_chrom = spec_chrom.loc[(spec_chrom['start'] <= simulated_mutations.at[i, 'start']) & (spec_chrom['end'] >= simulated_mutations.at[i, 'start'])]\n",
    "        if len(spec_chrom) != 0:\n",
    "            simulated_mutations.at[i, 'gene'] = spec_chrom['attributes'].values[0]\n",
    "            simulated_mutations.at[i, 'gene_start'] = spec_chrom['start'].values[0]\n",
    "            simulated_mutations.at[i, 'gene_end'] = spec_chrom['end'].values[0]\n",
    "        if simulated_mutations.at[i, 'gene'] == 'intergenic':\n",
    "            simulated_mutations.at[i, 'gene_start'] = mutations.at[i, 'start']\n",
    "            simulated_mutations.at[i, 'gene_end'] = mutations.at[i, 'end']\n",
    "\n",
    "    for i in simulated_mutations.index.values:\n",
    "        if simulated_mutations.at[i, 'gene'] == 'intergenic':\n",
    "            simulated_mutations.at[i, 'type'] = 'intergenic'\n",
    "            simulated_mutations.at[i, 'type_categories'] = 'intergenic'\n",
    "        else:\n",
    "            section = annotation.loc[annotation['genename'] == simulated_mutations.at[i, 'gene']]\n",
    "            exon = section.loc[section['type'] == 'exon']\n",
    "            for a in exon.index.values:\n",
    "                if exon.at[a, 'start'] <= simulated_mutations.at[i, 'start'] and simulated_mutations.at[i, 'end'] <= exon.at[a, 'end']:\n",
    "                    simulated_mutations.at[i, 'type'] = 'exon'\n",
    "            five_prime_UTR = section.loc[section['type'] == 'five_prime_UTR']\n",
    "            for a in five_prime_UTR.index.values:\n",
    "                if five_prime_UTR.at[a, 'start'] <= simulated_mutations.at[i, 'start'] and simulated_mutations.at[i, 'end'] <= five_prime_UTR.at[a, 'end']:\n",
    "                    simulated_mutations.at[i, 'type_categories'] = 'five_prime_UTR'\n",
    "            three_prime_UTR = section.loc[section['type'] == 'three_prime_UTR']\n",
    "            for a in three_prime_UTR.index.values:\n",
    "                if three_prime_UTR.at[a, 'start'] <= simulated_mutations.at[i, 'start'] and simulated_mutations.at[i, 'end'] <= three_prime_UTR.at[a, 'end']:\n",
    "                    simulated_mutations.at[i, 'type_categories'] = 'three_prime_UTR'\n",
    "            cds = section.loc[section['type'] == 'CDS']\n",
    "            for a in cds.index.values:\n",
    "                if cds.at[a, 'start'] <= simulated_mutations.at[i, 'start'] and simulated_mutations.at[i, 'end'] <= cds.at[a, 'end']:\n",
    "                    simulated_mutations.at[i, 'type_categories'] = 'CDS'\n",
    "    simulated_mutations['simulations'] = 'simulated_' + str(trials)\n",
    "    distribution = pd.concat([distribution, simulated_mutations], axis = 0)\n",
    "distribution.to_csv('/research/projects/chlamydomonas/MAexpression/analysis/DEGs/cis_mutations/distribution_simulated_mutations_enriched_regions.csv', sep = '\\t', index = True, header = True)"
   ]
  },
  {
   "cell_type": "markdown",
   "id": "protecting-acquisition",
   "metadata": {},
   "source": [
    "## Plots"
   ]
  },
  {
   "cell_type": "code",
   "execution_count": 36,
   "id": "after-consolidation",
   "metadata": {
    "scrolled": true
   },
   "outputs": [
    {
     "data": {
      "text/plain": [
       "<AxesSubplot:xlabel='variable', ylabel='value'>"
      ]
     },
     "execution_count": 36,
     "metadata": {},
     "output_type": "execute_result"
    },
    {
     "data": {
      "image/png": "[encoded data removed]",
      "text/plain": [
       "<Figure size 432x288 with 1 Axes>"
      ]
     },
     "metadata": {
      "needs_background": "light"
     },
     "output_type": "display_data"
    }
   ],
   "source": [
    "stats = pd.DataFrame(columns = ['CDS', 'five_prime_UTR', 'intergenic', 'intron', 'three_prime_UTR'])\n",
    "\n",
    "#### PLOTS ####\n",
    "distribution = pd.read_csv('/research/projects/chlamydomonas/MAexpression/analysis/DEGs/cis_mutations/distribution_simulated_mutations_enriched_regions.csv', delimiter = '\\t', index_col = 'Unnamed: 0').reset_index()\n",
    "for i in range(1, 1001):\n",
    "    a = distribution.loc[distribution['simulations'] == 'simulated_' + str(i)].groupby('type_categories')['index'].count()\n",
    "    for b in a.index.values:\n",
    "        stats.at['simulated_' + str(i), b] = a[b]/a.sum()\n",
    "    \n",
    "stats = stats.replace(np.nan, 0)\n",
    "stats = stats.reset_index()\n",
    "stats = pd.melt(stats, id_vars = ['index'], value_vars = stats.columns)\n",
    "sns.boxplot(stats, x = 'variable', y = 'value')"
   ]
  },
  {
   "cell_type": "markdown",
   "id": "insured-banking",
   "metadata": {},
   "source": [
    "# Helper Functions"
   ]
  },
  {
   "cell_type": "code",
   "execution_count": 3,
   "id": "theoretical-atmosphere",
   "metadata": {},
   "outputs": [],
   "source": [
    "import re\n",
    "from collections import OrderedDict\n",
    "\n",
    "############################################################################################################################################\n",
    "class GFF_line:\n",
    "\t\"\"\"This class basically parses a GFF line and allows you to interact with different components that I have deemed interesting\n",
    "\tMost components are simple strings or intgers.\n",
    "\tThe attributes field which is a ;-separated list is returned as a dictionary \"\"\"\n",
    "\tdef __init__(self, l, info_delimiter=\";\", info_field_delimiter = '='):\n",
    "\t\tself.seqid, self.source, self.type, self.start, self.end, self.score, self.strand, self.phase, self.attribs = l.split('\\t')\n",
    "\t\tself.attributes = self.attribute_dict(self.attribs, info_delimiter, info_field_delimiter)\n",
    "\t\tself.start = int(self.start)\n",
    "\t\tself.end = int(self.end)\n",
    "\t\tself.line = l\n",
    "\tdef attribute_dict(self, attributes, info_delimiter=\";\", info_field_delimiter = '='): ###this is fragile\n",
    "\t\td = OrderedDict()\n",
    "\t\tattributes = attributes.strip(info_delimiter)\n",
    "\t\tfor i in [x.strip() for x in re.split(info_delimiter, attributes)]:\n",
    "\t\t\tif len(i)>0:\n",
    "\t\t\t\tfield = re.split(info_field_delimiter, i)[0]\n",
    "\t\t\t\td[field] = re.split(info_field_delimiter, i)[1].strip('\"')\n",
    "\t\treturn d\n",
    "\tdef retrieve_sequence(self, ref_dict, reverse_complement=False):\n",
    "\t\tseq = str(ref_dict[self.seqid].seq[self.start-1: self.end])\n",
    "\t\tif reverse_complement:\n",
    "\t\t\tseq = reverse_complement(seq)\n",
    "\t\treturn seq\n",
    "\n",
    "def randomDEGs(genes, nDEGs):\n",
    "    random_DEGs = random.choices(list(genes.keys()), k=nDEGs)\n",
    "    return random_DEGs\n",
    "\n",
    "def nearest_mutation(DEG, genes, gene_bounds, muts):\n",
    "    \"\"\"\n",
    "    #set DEGs with mutations in them as 0\n",
    "    #otherwise use the minimum absolute distance to the genes flank\n",
    "\n",
    "    DEG= gene name\n",
    "    genes = a look up table of where genes are\n",
    "    gene_bounds = a look up table of the chromosome position where a gene is\n",
    "    muts = a dictionary of mutations keyed by chromosome\n",
    "    \"\"\"\n",
    "    if genes[DEG] == 'contig':\n",
    "        return None\n",
    "    else:\n",
    "        c = genes[DEG]\n",
    "        bounds = gene_bounds[c][DEG]\n",
    "        min_distance = 1e9 #set to some huge number bigger than the whole genome\n",
    "        if c not in muts:\n",
    "            return None\n",
    "        for p in muts[c]: # for this DEG we will check its distance to every mutation\n",
    "            if bounds[0]< p <bounds[1]: #if its in the gene\n",
    "                min_distance = 1 # set to one - you can use 0 but it messes with log scales\n",
    "                return min_distance #you're done\n",
    "            current_distance = min(abs(p-bounds[0]),abs(p-bounds[1])) #the nearest distance of this DEG to this mutation is the min of its flanks absolute distance \n",
    "            if current_distance < min_distance: # if this current min is closer than the running min then set it has the new running min\n",
    "                min_distance = current_distance\n",
    "    return min_distance"
   ]
  },
  {
   "cell_type": "markdown",
   "id": "shared-margin",
   "metadata": {},
   "source": [
    "## Gene names and positions"
   ]
  },
  {
   "cell_type": "code",
   "execution_count": 4,
   "id": "enabling-spokesman",
   "metadata": {},
   "outputs": [],
   "source": [
    "GFF_file  = \"/research/references/chlamydomonas/6.0_chlamy/CC4532.v1_1.gene_exons.gff3\"\n",
    "\n",
    "gene_types = ['gene', 'transposable_element_gene', 'tRNA', 'group_II_intron', 'rRNA', 'group_I_intron','ncRNA']\n",
    "genes ={}\n",
    "gene_bounds = {}\n",
    "\n",
    "for l in open(GFF_file):\n",
    "    if l.startswith(\"#\"):continue\n",
    "    g = GFF_line(l)\n",
    "    if 'contig' in g.seqid: \n",
    "        ID = g.attributes['ID']\n",
    "        genes[ID] = 'contig'\n",
    "    if g.type in gene_types:\n",
    "        ID = g.attributes['ID']\n",
    "        if g.seqid in gene_bounds: gene_bounds[g.seqid][ID] = [g.start, g.end]\n",
    "        else:\n",
    "            gene_bounds[g.seqid] = {ID:[g.start, g.end]}\n",
    "        genes[ID] = g.seqid"
   ]
  },
  {
   "cell_type": "markdown",
   "id": "parliamentary-thriller",
   "metadata": {},
   "source": [
    "## Identifying differentially expressed genes (DEGs)"
   ]
  },
  {
   "cell_type": "code",
   "execution_count": 5,
   "id": "eastern-tattoo",
   "metadata": {
    "scrolled": true
   },
   "outputs": [
    {
     "name": "stdout",
     "output_type": "stream",
     "text": [
      "CC2344-L1 3232\n",
      "CC2344-L15 3136\n",
      "CC2344-L2 226\n",
      "CC2344-L3 40\n",
      "CC2344-L4 2049\n",
      "CC2344-L5 185\n",
      "CC2344-L6 2543\n",
      "CC2344-L7 42\n",
      "CC2344-L8 44\n",
      "CC2344-L9 4568\n",
      "CC2931-L1 1553\n",
      "CC2931-L10 184\n",
      "CC2931-L11 2063\n",
      "CC2931-L13 601\n",
      "CC2931-L14 1777\n",
      "CC2931-L15 2715\n",
      "CC2931-L2 595\n",
      "CC2931-L3 344\n",
      "CC2931-L4 1347\n",
      "CC2931-L5 988\n",
      "CC2931-L6 2984\n",
      "CC2931-L7 338\n",
      "CC2931-L9 340\n",
      "CC2344-L10 1352\n",
      "CC2344-L11 4289\n",
      "CC2344-L12 1752\n",
      "CC2344-L13 63\n",
      "CC2344-L14 36\n"
     ]
    }
   ],
   "source": [
    "import glob\n",
    "DEG_folder = \"/research/projects/chlamydomonas/MAexpression/analysis/genes_log2fold\"\n",
    "\n",
    "deg_files = glob.glob(DEG_folder+\"/CC*-L*\") \n",
    "obs_DEGs = {}\n",
    "for f in deg_files:\n",
    "    ma_line = f.split(\"/\")[-1]\n",
    "    obs_DEGs[ma_line] = []\n",
    "    #print(ma_line)\n",
    "    for l in open(f).readlines()[1:]:\n",
    "        gene, baseMean,log2FoldChange,lfcSE,stat,pvalue,padj = l.strip().split(\"\\t\")\n",
    "        try:\n",
    "            padj = float(padj)\n",
    "            if padj < 0.05:\n",
    "                obs_DEGs[ma_line].append(gene)\n",
    "                #could apply other filters here - ie strong down regulation\n",
    "#                 if abs(float(log2FoldChange)) > 2.0:\n",
    "#                     obs_DEGs[ma_line].append(gene)\n",
    "        except:\n",
    "            pass\n",
    "            #print(l.strip())\n",
    "\n",
    "            \n",
    "for i in obs_DEGs:\n",
    "    print(i, len(obs_DEGs[i]))"
   ]
  },
  {
   "cell_type": "markdown",
   "id": "velvet-resident",
   "metadata": {},
   "source": [
    "## Isolate observed mutations"
   ]
  },
  {
   "cell_type": "code",
   "execution_count": 6,
   "id": "junior-champagne",
   "metadata": {
    "scrolled": true
   },
   "outputs": [
    {
     "name": "stdout",
     "output_type": "stream",
     "text": [
      "CC2931-L12 179\n",
      "CC2931-L14 79\n",
      "CC2931-L7 73\n",
      "CC2931-L2 124\n",
      "CC2931-L4 100\n",
      "CC2931-L5 339\n",
      "CC2931-L13 97\n",
      "CC2931-L1 89\n",
      "CC2931-L15 141\n",
      "CC2931-L3 52\n",
      "CC2931-L9 112\n",
      "CC2931-L10 87\n",
      "CC2931-L11 88\n",
      "CC2931-L6 85\n",
      "CC2344-L12 74\n",
      "CC2344-L14 46\n",
      "CC2344-L5 69\n",
      "CC2344-L6 39\n",
      "CC2344-L1 398\n",
      "CC2344-L10 59\n",
      "CC2344-L4 24\n",
      "CC2344-L13 49\n",
      "CC2344-L2 81\n",
      "CC2344-L8 75\n",
      "CC2344-L15 53\n",
      "CC2344-L7 45\n",
      "CC2344-L3 63\n",
      "CC2344-L9 27\n",
      "CC2344-L11 45\n"
     ]
    }
   ],
   "source": [
    "mutations_file  = \"/research/projects/chlamydomonas/MAexpression/genome_info/mutation_info/v6_coordinates.bed\"\n",
    "\n",
    "obs_mutations = {}\n",
    "for l in open(mutations_file):\n",
    "    c,s,e,ma_line =l.strip().split()\n",
    "    ma_line = \"-L\".join(ma_line.split(\"_\"))\n",
    "    if ma_line not in obs_mutations:obs_mutations[ma_line] = {c:[int(e)]}\n",
    "    elif c not in obs_mutations[ma_line]:obs_mutations[ma_line][c] = [int(e)]\n",
    "    else:obs_mutations[ma_line][c].append(int(e))\n",
    "    \n",
    "for ma_line in obs_mutations:\n",
    "    print(ma_line, sum([len(obs_mutations[ma_line][c]) for c in obs_mutations[ma_line]]))"
   ]
  },
  {
   "cell_type": "markdown",
   "id": "american-prime",
   "metadata": {},
   "source": [
    "# Finding potential <i>cis</i> mutations"
   ]
  },
  {
   "cell_type": "markdown",
   "id": "positive-bookmark",
   "metadata": {},
   "source": [
    "## Script can be found \"scripts/cis_mutations.py\""
   ]
  },
  {
   "cell_type": "code",
   "execution_count": 75,
   "id": "excited-gibson",
   "metadata": {
    "scrolled": true
   },
   "outputs": [],
   "source": [
    "for f in [100]: \n",
    "    n_sims = 10000\n",
    "    bins = [0] + [10**i for i in range(1,8)]\n",
    "    flank_region = f \n",
    "    total_sim_ds = []\n",
    "    total_obs_ds = []\n",
    "    significant= 0\n",
    "    for ma_line in obs_DEGs.keys():\n",
    "        DEGs = obs_DEGs[ma_line]\n",
    "        muts = obs_mutations[ma_line]\n",
    "        obs_distances = [nearest_mutation(d, genes, gene_bounds, muts) for d in DEGs]\n",
    "        fraction_in_flank = 0\n",
    "        for i in obs_distances:\n",
    "            if i != None:\n",
    "                if i < flank_region:fraction_in_flank+=1\n",
    "        n=0\n",
    "        sim_distances = []\n",
    "        closer_than_obs = 0\n",
    "        while n < n_sims:\n",
    "            simDEGs = randomDEGs(genes, len(DEGs))\n",
    "            these_sim_distances = [nearest_mutation(d, genes, gene_bounds, muts) for d in simDEGs]\n",
    "            sim_distances = sim_distances+these_sim_distances\n",
    "            sim_fraction_in_flank = 0\n",
    "            for i in these_sim_distances:\n",
    "                if i != None:\n",
    "                    if i < flank_region:\n",
    "                        sim_fraction_in_flank+=1\n",
    "            if sim_fraction_in_flank > fraction_in_flank:closer_than_obs+=1\n",
    "            n+=1\n",
    "            print(len(sim_distances))\n",
    "        title_line = \"{} DEGs: {}, muts: {}, p-value={}\".format(ma_line, len(DEGs), len(muts), closer_than_obs/n)\n",
    "        if closer_than_obs/n <=0.05: significant +=1\n",
    "        print(title_line)\n",
    "        plt.figure()\n",
    "        sns.histplot(sim_distances, stat=\"density\", log_scale=True, bins=25).set(title=title_line)\n",
    "        sns.histplot(obs_distances, stat=\"density\", log_scale=True, color='red', bins=25)\n",
    "        total_sim_ds +=sim_distances\n",
    "        total_obs_ds +=obs_distances\n",
    "\n",
    "    sim_fraction_in_flank = 0\n",
    "    for i in total_sim_ds:\n",
    "        if i != None:\n",
    "            if i < flank_region:\n",
    "                sim_fraction_in_flank+=1\n",
    "    print(fraction_in_flank/len(obs_distances), sim_fraction_in_flank/len(total_sim_ds))\n",
    "    print(f, \"Significant MA lines = \", significant )"
   ]
  },
  {
   "cell_type": "markdown",
   "id": "manual-windsor",
   "metadata": {},
   "source": [
    "## Plots"
   ]
  },
  {
   "cell_type": "code",
   "execution_count": 7,
   "id": "hazardous-income",
   "metadata": {
    "scrolled": true
   },
   "outputs": [
    {
     "name": "stdout",
     "output_type": "stream",
     "text": [
      "1\n"
     ]
    },
    {
     "name": "stderr",
     "output_type": "stream",
     "text": [
      "The PostScript backend does not support transparency; partially transparent artists will be rendered opaque.\n",
      "The PostScript backend does not support transparency; partially transparent artists will be rendered opaque.\n",
      "The PostScript backend does not support transparency; partially transparent artists will be rendered opaque.\n",
      "The PostScript backend does not support transparency; partially transparent artists will be rendered opaque.\n",
      "The PostScript backend does not support transparency; partially transparent artists will be rendered opaque.\n",
      "The PostScript backend does not support transparency; partially transparent artists will be rendered opaque.\n",
      "The PostScript backend does not support transparency; partially transparent artists will be rendered opaque.\n",
      "The PostScript backend does not support transparency; partially transparent artists will be rendered opaque.\n",
      "The PostScript backend does not support transparency; partially transparent artists will be rendered opaque.\n",
      "The PostScript backend does not support transparency; partially transparent artists will be rendered opaque.\n",
      "The PostScript backend does not support transparency; partially transparent artists will be rendered opaque.\n",
      "The PostScript backend does not support transparency; partially transparent artists will be rendered opaque.\n",
      "The PostScript backend does not support transparency; partially transparent artists will be rendered opaque.\n",
      "The PostScript backend does not support transparency; partially transparent artists will be rendered opaque.\n",
      "The PostScript backend does not support transparency; partially transparent artists will be rendered opaque.\n",
      "The PostScript backend does not support transparency; partially transparent artists will be rendered opaque.\n",
      "The PostScript backend does not support transparency; partially transparent artists will be rendered opaque.\n",
      "The PostScript backend does not support transparency; partially transparent artists will be rendered opaque.\n",
      "The PostScript backend does not support transparency; partially transparent artists will be rendered opaque.\n",
      "The PostScript backend does not support transparency; partially transparent artists will be rendered opaque.\n",
      "The PostScript backend does not support transparency; partially transparent artists will be rendered opaque.\n",
      "The PostScript backend does not support transparency; partially transparent artists will be rendered opaque.\n",
      "The PostScript backend does not support transparency; partially transparent artists will be rendered opaque.\n",
      "The PostScript backend does not support transparency; partially transparent artists will be rendered opaque.\n",
      "The PostScript backend does not support transparency; partially transparent artists will be rendered opaque.\n",
      "The PostScript backend does not support transparency; partially transparent artists will be rendered opaque.\n",
      "The PostScript backend does not support transparency; partially transparent artists will be rendered opaque.\n",
      "The PostScript backend does not support transparency; partially transparent artists will be rendered opaque.\n",
      "The PostScript backend does not support transparency; partially transparent artists will be rendered opaque.\n",
      "The PostScript backend does not support transparency; partially transparent artists will be rendered opaque.\n",
      "The PostScript backend does not support transparency; partially transparent artists will be rendered opaque.\n",
      "The PostScript backend does not support transparency; partially transparent artists will be rendered opaque.\n",
      "The PostScript backend does not support transparency; partially transparent artists will be rendered opaque.\n",
      "The PostScript backend does not support transparency; partially transparent artists will be rendered opaque.\n",
      "The PostScript backend does not support transparency; partially transparent artists will be rendered opaque.\n",
      "The PostScript backend does not support transparency; partially transparent artists will be rendered opaque.\n",
      "The PostScript backend does not support transparency; partially transparent artists will be rendered opaque.\n",
      "The PostScript backend does not support transparency; partially transparent artists will be rendered opaque.\n",
      "The PostScript backend does not support transparency; partially transparent artists will be rendered opaque.\n",
      "The PostScript backend does not support transparency; partially transparent artists will be rendered opaque.\n",
      "The PostScript backend does not support transparency; partially transparent artists will be rendered opaque.\n",
      "The PostScript backend does not support transparency; partially transparent artists will be rendered opaque.\n",
      "The PostScript backend does not support transparency; partially transparent artists will be rendered opaque.\n",
      "The PostScript backend does not support transparency; partially transparent artists will be rendered opaque.\n",
      "The PostScript backend does not support transparency; partially transparent artists will be rendered opaque.\n",
      "The PostScript backend does not support transparency; partially transparent artists will be rendered opaque.\n",
      "The PostScript backend does not support transparency; partially transparent artists will be rendered opaque.\n",
      "The PostScript backend does not support transparency; partially transparent artists will be rendered opaque.\n",
      "The PostScript backend does not support transparency; partially transparent artists will be rendered opaque.\n",
      "The PostScript backend does not support transparency; partially transparent artists will be rendered opaque.\n"
     ]
    },
    {
     "data": {
      "image/png": "[encoded data removed]",
      "text/plain": [
       "<Figure size 1440x1080 with 1 Axes>"
      ]
     },
     "metadata": {
      "needs_background": "light"
     },
     "output_type": "display_data"
    }
   ],
   "source": [
    "CC2931 = [\"CC2931-L1\", \"CC2931-L2\", \"CC2931-L3\", \"CC2931-L4\", \"CC2931-L5\", \"CC2931-L6\", \"CC2931-L7\", \"CC2931-L9\", \"CC2931-L10\", \"CC2931-L11\", \"CC2931-L13\", \"CC2931-L14\", \"CC2931-L15\"]\n",
    "CC2344 = [\"CC2344-L1\", \"CC2344-L2\", \"CC2344-L3\", \"CC2344-L4\", \"CC2344-L5\", \"CC2344-L6\", \"CC2344-L7\", \"CC2344-L8\", \"CC2344-L9\", \"CC2344-L10\", \"CC2344-L11\", \"CC2344-L12\", \"CC2344-L13\", \"CC2344-L14\", \"CC2344-L15\"]\n",
    "\n",
    "p_value = pd.DataFrame()\n",
    "\n",
    "for f in [100]: \n",
    "    n_sims = 10000\n",
    "    bins = [0] + [10**i for i in range(1,8)]\n",
    "    flank_region = f \n",
    "    total_sim_ds = []\n",
    "    total_obs_ds = []\n",
    "    significant= 0\n",
    "    for ma_line in ['CC2344-L14']:\n",
    "        DEGs = obs_DEGs[ma_line]\n",
    "        muts = obs_mutations[ma_line]\n",
    "        obs_distances = [nearest_mutation(d, genes, gene_bounds, muts) for d in DEGs]\n",
    "        fraction_in_flank = 0\n",
    "        for i in obs_distances:\n",
    "            if i != None:\n",
    "                if i < flank_region:fraction_in_flank+=1\n",
    "        n=0\n",
    "        sim_distances = []\n",
    "        closer_than_obs = 0\n",
    "        while n < n_sims:\n",
    "            simDEGs = randomDEGs(genes, len(DEGs))\n",
    "            these_sim_distances = [nearest_mutation(d, genes, gene_bounds, muts) for d in simDEGs]\n",
    "            sim_distances = sim_distances+these_sim_distances\n",
    "            sim_fraction_in_flank = 0\n",
    "            for i in these_sim_distances:\n",
    "                if i != None:\n",
    "                    if i < flank_region:\n",
    "                        sim_fraction_in_flank+=1\n",
    "            if sim_fraction_in_flank > fraction_in_flank:closer_than_obs+=1\n",
    "            n+=1\n",
    "        title_line = \"{} DEGs: {}, muts: {}, p-value={}\".format(ma_line, len(DEGs), len(muts), closer_than_obs/n)\n",
    "        p_value.at[ma_line, 'pval'] = closer_than_obs/n\n",
    "\n",
    "        if closer_than_obs/n <=0.05: \n",
    "            significant +=1\n",
    "            print(significant)\n",
    "            \n",
    "        #### Creating plot ####\n",
    "        plt.figure(figsize = (20,15))\n",
    "        sns.histplot(sim_distances, stat = 'density', log_scale=True, bins=25)\n",
    "        sns.histplot(obs_distances, stat = 'density', log_scale=True, color='red', bins=25, alpha=.4)\n",
    "        plt.xlabel('Mutation-DEG distance (bp)', fontsize = 35)\n",
    "        plt.ylabel('Proportion', fontsize = 35)\n",
    "        plt.xticks(fontsize = 25)\n",
    "        plt.yticks(fontsize = 25)\n",
    "        plt.savefig('/research/projects/chlamydomonas/MAexpression/analysis/DEGs/cis_mutations/CC2344-L14_distribution.eps', dpi = 600, format = 'eps', bbox_inches = 'tight')\n",
    "        plt.savefig('/research/projects/chlamydomonas/MAexpression/analysis/DEGs/cis_mutations/CC2344-L14_distribution.pdf', dpi = 600, format = 'pdf', bbox_inches = 'tight')"
   ]
  },
  {
   "cell_type": "markdown",
   "id": "medieval-magnet",
   "metadata": {},
   "source": [
    "## <i>P</i> value distribution"
   ]
  },
  {
   "cell_type": "code",
   "execution_count": 2,
   "id": "decent-draft",
   "metadata": {},
   "outputs": [
    {
     "name": "stderr",
     "output_type": "stream",
     "text": [
      "The PostScript backend does not support transparency; partially transparent artists will be rendered opaque.\n",
      "The PostScript backend does not support transparency; partially transparent artists will be rendered opaque.\n",
      "The PostScript backend does not support transparency; partially transparent artists will be rendered opaque.\n",
      "The PostScript backend does not support transparency; partially transparent artists will be rendered opaque.\n",
      "The PostScript backend does not support transparency; partially transparent artists will be rendered opaque.\n",
      "The PostScript backend does not support transparency; partially transparent artists will be rendered opaque.\n",
      "The PostScript backend does not support transparency; partially transparent artists will be rendered opaque.\n",
      "The PostScript backend does not support transparency; partially transparent artists will be rendered opaque.\n",
      "The PostScript backend does not support transparency; partially transparent artists will be rendered opaque.\n",
      "The PostScript backend does not support transparency; partially transparent artists will be rendered opaque.\n",
      "The PostScript backend does not support transparency; partially transparent artists will be rendered opaque.\n",
      "The PostScript backend does not support transparency; partially transparent artists will be rendered opaque.\n",
      "The PostScript backend does not support transparency; partially transparent artists will be rendered opaque.\n",
      "The PostScript backend does not support transparency; partially transparent artists will be rendered opaque.\n"
     ]
    },
    {
     "data": {
      "image/png": "[encoded data removed]",
      "text/plain": [
       "<Figure size 1440x720 with 1 Axes>"
      ]
     },
     "metadata": {
      "needs_background": "light"
     },
     "output_type": "display_data"
    }
   ],
   "source": [
    "p_value = pd.read_csv('/research/projects/chlamydomonas/MAexpression/analysis/DEGs/cis_mutations/p_values.csv', delimiter = '\\t', index_col = 'Unnamed: 0')\n",
    "plt.figure(figsize = (20, 10))\n",
    "sns.histplot(p_value['pval'], binwidth = 0.05)\n",
    "plt.xlabel('p', fontsize = 35, fontstyle='italic')\n",
    "plt.ylabel('Count', fontsize = 35)\n",
    "plt.xticks(fontsize = 25)\n",
    "plt.yticks(fontsize = 25)\n",
    "plt.savefig('/research/projects/chlamydomonas/MAexpression/analysis/DEGs/cis_mutations/distribution_of_pval.eps', format = 'eps', dpi = 600, bbox_inches = 'tight')\n",
    "plt.savefig('/research/projects/chlamydomonas/MAexpression/analysis/DEGs/cis_mutations/distribution_of_pval.pdf', format = 'pdf', dpi = 600, bbox_inches = 'tight')"
   ]
  },
  {
   "cell_type": "markdown",
   "id": "hairy-netherlands",
   "metadata": {},
   "source": [
    "# Distribution of the expression change of potential <i>cis</i> mutations"
   ]
  },
  {
   "cell_type": "code",
   "execution_count": 2,
   "id": "rotary-breathing",
   "metadata": {},
   "outputs": [],
   "source": [
    "CC2344 = [\"CC2344-L1\", \"CC2344-L2\", \"CC2344-L3\", \"CC2344-L4\", \"CC2344-L5\", \"CC2344-L6\", \"CC2344-L7\", \"CC2344-L8\", \"CC2344-L9\", \"CC2344-L10\", \"CC2344-L11\", \"CC2344-L12\", \"CC2344-L13\", \"CC2344-L14\", \"CC2344-L15\"]\n",
    "CC2931 = [\"CC2931-L1\", \"CC2931-L2\", \"CC2931-L3\", \"CC2931-L4\", \"CC2931-L5\", \"CC2931-L6\", \"CC2931-L7\", \"CC2931-L9\", \"CC2931-L10\", \"CC2931-L11\", \"CC2931-L13\", \"CC2931-L14\", \"CC2931-L15\"]\n",
    "\n",
    "#### Importing the annotation of genes in version 6 reference genome ####\n",
    "type_gene = pd.read_csv('/research/projects/chlamydomonas/MAexpression/analysis/annotation/v6_genes.csv', delimiter = '\\t')\n",
    "\n",
    "#### List of differentially expressed genes ####\n",
    "DEGs = pd.read_csv('/research/projects/chlamydomonas/MAexpression/analysis/DEGs/total_genes1.csv', delimiter = ',').reset_index()\n",
    "DEGs = pd.melt(DEGs, id_vars = ['index'], value_vars = CC2344 + CC2931).dropna()\n",
    "DEGs = DEGs.set_index('value').join(type_gene.set_index('attributes'))\n",
    "\n",
    "#### Importing the annotation of genes in version 6 reference genome ####\n",
    "type_gene = pd.read_csv('/research/projects/chlamydomonas/MAexpression/analysis/annotation/v6_genes.csv', delimiter = '\\t')\n",
    "\n",
    "### Importing all mutations per MA sample ####\n",
    "mutations = pd.read_csv('/research/projects/chlamydomonas/MAexpression/genome_info/mutation_info/all_mutations.csv', delimiter = '\\t')"
   ]
  },
  {
   "cell_type": "code",
   "execution_count": 3,
   "id": "antique-algorithm",
   "metadata": {},
   "outputs": [],
   "source": [
    "flank = 100\n",
    "near_DEGs = pd.DataFrame()\n",
    "for MAline in DEGs['variable'].unique():\n",
    "    mut = mutations.loc[mutations['sample'] == MAline]\n",
    "    degs = DEGs.loc[DEGs['variable'] == MAline].reset_index()\n",
    "    for chrom in degs['seq_id'].unique():\n",
    "        mut_1 = mut.loc[mut['chromosome'] == chrom]\n",
    "        degs_1 = degs.loc[degs['seq_id'] == chrom]\n",
    "        for index in degs_1.index.values:\n",
    "            bounds_start = degs_1.at[index, 'start'] - flank\n",
    "            bounds_end = degs_1.at[index, 'end'] + flank\n",
    "            mut_2 = mut_1.loc[(mut_1['gene_start'] >= bounds_start) & (mut_1['gene_end'] <= bounds_end) | (mut_1['gene_start'] >= bounds_start) & (mut_1['gene_start'] <= bounds_end) | (mut_1['gene_end'] >= bounds_start) & (mut_1['gene_end'] <= bounds_end)]\n",
    "            if len(mut_2) != 0:\n",
    "                near_DEGs.at[MAline + '_' + degs_1.at[index, 'level_0'], 'degs'] = degs_1.at[index, 'level_0']\n",
    "\n",
    "near_DEGs = near_DEGs.reset_index()\n",
    "near_DEGs['index'] = near_DEGs['index'].str.split('_', expand = True)[0]"
   ]
  },
  {
   "cell_type": "code",
   "execution_count": 4,
   "id": "absent-snapshot",
   "metadata": {},
   "outputs": [
    {
     "data": {
      "text/plain": [
       "<AxesSubplot:xlabel='L2F', ylabel='Count'>"
      ]
     },
     "execution_count": 4,
     "metadata": {},
     "output_type": "execute_result"
    },
    {
     "data": {
      "image/png": "[encoded data removed]",
      "text/plain": [
       "<Figure size 432x288 with 1 Axes>"
      ]
     },
     "metadata": {
      "needs_background": "light"
     },
     "output_type": "display_data"
    }
   ],
   "source": [
    "CC2344_L2F = pd.read_csv('/research/projects/chlamydomonas/MAexpression/analysis/raw_counts/CC2344_log2Fold', delimiter = '\\t', index_col = 'Unnamed: 0')\n",
    "CC2931_L2F = pd.read_csv('/research/projects/chlamydomonas/MAexpression/analysis/raw_counts/CC2931_log2Fold', delimiter = '\\t', index_col = 'Unnamed: 0')\n",
    "\n",
    "for i in near_DEGs.index.values:\n",
    "    if 'CC2344' in near_DEGs.at[i, 'index']:\n",
    "        near_DEGs.at[i, 'L2F'] = CC2344_L2F.at[near_DEGs.at[i, 'degs'], near_DEGs.at[i, 'index']]\n",
    "    if 'CC2931' in near_DEGs.at[i, 'index']:\n",
    "        near_DEGs.at[i, 'L2F'] = CC2931_L2F.at[near_DEGs.at[i, 'degs'], near_DEGs.at[i, 'index']]\n",
    "        \n",
    "sns.histplot(near_DEGs['L2F'])"
   ]
  },
  {
   "cell_type": "code",
   "execution_count": null,
   "id": "upper-indonesian",
   "metadata": {},
   "outputs": [],
   "source": []
  }
 ],
 "metadata": {
  "kernelspec": {
   "display_name": "Python [conda env:.conda-personal] *",
   "language": "python",
   "name": "conda-env-.conda-personal-py"
  },
  "language_info": {
   "codemirror_mode": {
    "name": "ipython",
    "version": 3
   },
   "file_extension": ".py",
   "mimetype": "text/x-python",
   "name": "python",
   "nbconvert_exporter": "python",
   "pygments_lexer": "ipython3",
   "version": "3.8.5"
  },
  "toc": {
   "base_numbering": 1,
   "nav_menu": {},
   "number_sections": true,
   "sideBar": true,
   "skip_h1_title": false,
   "title_cell": "Table of Contents",
   "title_sidebar": "Contents",
   "toc_cell": true,
   "toc_position": {},
   "toc_section_display": true,
   "toc_window_display": false
  }
 },
 "nbformat": 4,
 "nbformat_minor": 5
}
