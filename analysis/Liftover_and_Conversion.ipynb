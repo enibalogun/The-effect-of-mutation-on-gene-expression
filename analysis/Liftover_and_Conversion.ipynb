{
 "cells": [
  {
   "cell_type": "markdown",
   "id": "quiet-lebanon",
   "metadata": {
    "toc": true
   },
   "source": [
    "<h1>Table of Contents<span class=\"tocSkip\"></span></h1>\n",
    "<div class=\"toc\"><ul class=\"toc-item\"><li><span><a href=\"#Keys\" data-toc-modified-id=\"Keys-1\"><span class=\"toc-item-num\">1&nbsp;&nbsp;</span>Keys</a></span></li><li><span><a href=\"#Mutation-Liftover\" data-toc-modified-id=\"Mutation-Liftover-2\"><span class=\"toc-item-num\">2&nbsp;&nbsp;</span>Mutation Liftover</a></span></li><li><span><a href=\"#Reference-Genome-Conversion\" data-toc-modified-id=\"Reference-Genome-Conversion-3\"><span class=\"toc-item-num\">3&nbsp;&nbsp;</span>Reference Genome Conversion</a></span></li></ul></div>"
   ]
  },
  {
   "cell_type": "markdown",
   "id": "increased-values",
   "metadata": {},
   "source": [
    "## Keys"
   ]
  },
  {
   "cell_type": "code",
   "execution_count": 1,
   "id": "underlying-catalyst",
   "metadata": {},
   "outputs": [],
   "source": [
    "import gffpandas.gffpandas as gffpd\n",
    "import pybedtools\n",
    "import pandas as pd\n",
    "import numpy as np"
   ]
  },
  {
   "cell_type": "markdown",
   "id": "subjective-boulder",
   "metadata": {},
   "source": [
    "## Mutation Liftover"
   ]
  },
  {
   "cell_type": "markdown",
   "id": "hazardous-telephone",
   "metadata": {},
   "source": [
    "Aim: To convert the location of the mutations in v5.6 to that of the new reference genome (v6)\n",
    "1. Extracting the locations of the mutations in each of the 28 MA lines and storing them in a dataframe.\n",
    "2. Converting the dataframe with mutation locations into a bed file.\n",
    "3. Using the HalLiftover tool to convert the locations of the mutations in v5.6 to v6."
   ]
  },
  {
   "cell_type": "code",
   "execution_count": null,
   "id": "neither-orleans",
   "metadata": {},
   "outputs": [],
   "source": [
    "#### Extracting the locations of the mutations in each of the 28 MA lines ####\n",
    "mutation_location = pd.read_csv('/research/projects/chlamydomonas/MAexpression/data/genome_info/Mutation_Location.txt', delimiter = '\\t')[['chromosome', 'position', 'mutant_sample']]\n",
    "\n",
    "CC2931_loc_index = []\n",
    "CC2344_loc_index = []\n",
    "\n",
    "for i in list(mutation_location.index.values): \n",
    "    if 'CC2931_' in mutation_location['mutant_sample'][i]:\n",
    "        CC2931_loc_index.append(i)\n",
    "    if 'CC2344_' in mutation_location['mutant_sample'][i]: \n",
    "        CC2344_loc_index.append(i)\n",
    "        \n",
    "specific_mut_loc = mutation_location.iloc[CC2931_loc_index + CC2344_loc_index]\n",
    "specific_mut_loc['end'] = 'NA'\n",
    "\n",
    "for i in list(specific_mut_loc.index.values):\n",
    "    specific_mut_loc['end'][i] = specific_mut_loc['position'][i] + 1\n",
    "specific_mut_loc.columns = ['chromosome', 'start', 'mutant_sample','end']\n",
    "specific_mut_loc = specific_mut_loc[['chromosome', 'start', 'end', 'mutant_sample']]\n",
    "\n",
    "#### Converting the dataframe to a bed file ####\n",
    "new_mutation_location = pybedtools.BedTool.from_dataframe(specific_mut_loc)\n",
    "new_mutation_location.saveas('/research/projects/chlamydomonas/MAexpression/data/genome_info/v5_coordinates.bed')\n",
    "\n",
    "#### Using HalLiftover to liftover v5 mutation locations to that of v6 ####\n",
    "halLiftover Cr_3way.hal CC503v5 v5.coordinates.bed CC4532v6 v6.coordinates.bed\n",
    "## General code: halLiftover <hal file> CC503v5 <source_bedfile> CC4532v6 <target_bedfile>"
   ]
  },
  {
   "cell_type": "markdown",
   "id": "abandoned-audit",
   "metadata": {},
   "source": [
    "## Reference Genome Conversion"
   ]
  },
  {
   "cell_type": "markdown",
   "id": "precise-subcommittee",
   "metadata": {},
   "source": [
    "Reformatting a reference genome conversion file. \n",
    "A file with v5.3 to v6 gene conversions."
   ]
  },
  {
   "cell_type": "code",
   "execution_count": 89,
   "id": "naval-solomon",
   "metadata": {
    "scrolled": true
   },
   "outputs": [],
   "source": [
    "conversion = pd.read_csv('/research/projects/chlamydomonas/MAexpression/data/genome_info/v5_to_v6_liftover/ChlamydomonasTranscriptNameConversionBetweenReleases.Mch12b.csv', delimiter = ',', skiprows = 1)\n",
    "conversion.columns = ['5.5', '3', '1', 'Genbank', '4', '4.3', 'u5', 'u9', '5.3.1']\n",
    "conversion = conversion[~conversion.index.duplicated(keep = 'first')]\n",
    "conversion.drop(['3', '1', 'Genbank', '4', '4.3', 'u5', 'u9'], axis = 1, inplace = True)\n",
    "conversion = conversion.replace(' ', '', regex = True)\n",
    "conversion.set_index('5.3.1', inplace = True)\n",
    "\n",
    "divergence = pd.read_csv('/research/projects/chlamydomonas/MAexpression/data/genome_info/divergence_info/divergence.out.txt', delimiter = '\\t', index_col = 'transcript_ID')\n",
    "PACid2geneID = pd.read_csv('/research/references/chlamydomonas/5.3_chlamy_w_organelles_mt_minus/annotation/PACid2geneID.txt', delimiter = '\\t')\n",
    "PACid2geneID.columns = ['transcript_ID', 'geneid']\n",
    "PACid2geneID.set_index('transcript_ID', inplace = True)\n",
    "divergence = divergence.join(PACid2geneID)\n",
    "divergence.rename(columns = {'geneid': 'v5.3.1'}, inplace = True)\n",
    "divergence.set_index('v5.3.1', inplace = True)\n",
    "divergence = divergence.join(conversion)\n",
    "\n",
    "geneID = pd.read_csv('/research/projects/chlamydomonas/MAexpression/data/genome_info/v5_to_v6_liftover/preliminary_v6_Cre_liftover.tsv', delimiter = '\\t', header = None)\n",
    "geneID.columns = ['v6', 'v5']\n",
    "geneID.set_index('v5', inplace = True)\n",
    "geneID = geneID[~geneID.index.duplicated(keep = 'first')]\n",
    "divergence = divergence.reset_index()\n",
    "divergence['v5_5_gene'] = divergence['5.5'].replace('.t[1-9].*','', regex = True)\n",
    "divergence.set_index('v5_5_gene', inplace = True)\n",
    "divergence = divergence[~divergence.index.duplicated(keep = 'first')]\n",
    "divergence = pd.concat([divergence, geneID], axis = 1)\n",
    "divergence = divergence.reset_index()\n",
    "divergence.rename(columns = {'level_0':'v5_5_gene', 'index':'v5.3.1', '5.5':'JGI_v5.5_ID', 'v6':'JGI_v6'}, inplace = True)\n",
    "divergence.to_csv('/research/projects/chlamydomonas/MAexpression/analysis/divergence/files/divergence_file_v5.3_and_v6.csv', sep = '\\t', header = True, index = True)\n",
    "\n",
    "chlamy_v5_conversion = divergence[['v5_5_gene', 'v5.3.1', 'JGI_v5.5_ID', 'JGI_v6']]\n",
    "chlamy_v5_conversion.to_csv('/research/projects/chlamydomonas/MAexpression/data/genome_info/v5.3_to_v5.6_to_v6.csv', sep = '\\t', header = True, index = False)"
   ]
  },
  {
   "cell_type": "code",
   "execution_count": null,
   "id": "satellite-stanley",
   "metadata": {},
   "outputs": [],
   "source": []
  }
 ],
 "metadata": {
  "kernelspec": {
   "display_name": "Python [conda env:.conda-personal] *",
   "language": "python",
   "name": "conda-env-.conda-personal-py"
  },
  "language_info": {
   "codemirror_mode": {
    "name": "ipython",
    "version": 3
   },
   "file_extension": ".py",
   "mimetype": "text/x-python",
   "name": "python",
   "nbconvert_exporter": "python",
   "pygments_lexer": "ipython3",
   "version": "3.8.5"
  },
  "toc": {
   "base_numbering": 1,
   "nav_menu": {},
   "number_sections": true,
   "sideBar": true,
   "skip_h1_title": false,
   "title_cell": "Table of Contents",
   "title_sidebar": "Contents",
   "toc_cell": true,
   "toc_position": {},
   "toc_section_display": true,
   "toc_window_display": false
  }
 },
 "nbformat": 4,
 "nbformat_minor": 5
}
