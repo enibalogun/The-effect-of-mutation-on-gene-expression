{
 "cells": [
  {
   "cell_type": "markdown",
   "id": "legal-astrology",
   "metadata": {
    "toc": true
   },
   "source": [
    "<h1>Table of Contents<span class=\"tocSkip\"></span></h1>\n",
    "<div class=\"toc\"><ul class=\"toc-item\"><li><span><a href=\"#Keys\" data-toc-modified-id=\"Keys-1\"><span class=\"toc-item-num\">1&nbsp;&nbsp;</span>Keys</a></span></li><li><span><a href=\"#Preparing-dataframes-according-to-mutation-type\" data-toc-modified-id=\"Preparing-dataframes-according-to-mutation-type-2\"><span class=\"toc-item-num\">2&nbsp;&nbsp;</span>Preparing dataframes according to mutation type</a></span></li><li><span><a href=\"#Cleaning-structural-mutations-data\" data-toc-modified-id=\"Cleaning-structural-mutations-data-3\"><span class=\"toc-item-num\">3&nbsp;&nbsp;</span>Cleaning structural mutations data</a></span><ul class=\"toc-item\"><li><span><a href=\"#Function---Combining-all-V6-fragments-per-mutation\" data-toc-modified-id=\"Function---Combining-all-V6-fragments-per-mutation-3.1\"><span class=\"toc-item-num\">3.1&nbsp;&nbsp;</span>Function - Combining all V6 fragments per mutation</a></span></li><li><span><a href=\"#Function---Distance-between-fragments\" data-toc-modified-id=\"Function---Distance-between-fragments-3.2\"><span class=\"toc-item-num\">3.2&nbsp;&nbsp;</span>Function - Distance between fragments</a></span></li><li><span><a href=\"#Function---Combining-fragments-based-on-distance\" data-toc-modified-id=\"Function---Combining-fragments-based-on-distance-3.3\"><span class=\"toc-item-num\">3.3&nbsp;&nbsp;</span>Function - Combining fragments based on distance</a></span></li></ul></li><li><span><a href=\"#Functions---Finding-the-effect-of-structural-mutations-on-expression\" data-toc-modified-id=\"Functions---Finding-the-effect-of-structural-mutations-on-expression-4\"><span class=\"toc-item-num\">4&nbsp;&nbsp;</span>Functions - Finding the effect of structural mutations on expression</a></span><ul class=\"toc-item\"><li><span><a href=\"#Getting-information-on-DEGs\" data-toc-modified-id=\"Getting-information-on-DEGs-4.1\"><span class=\"toc-item-num\">4.1&nbsp;&nbsp;</span>Getting information on DEGs</a></span></li><li><span><a href=\"#Functions---Isolating-genes-in-structural-mutations\" data-toc-modified-id=\"Functions---Isolating-genes-in-structural-mutations-4.2\"><span class=\"toc-item-num\">4.2&nbsp;&nbsp;</span>Functions - Isolating genes in structural mutations</a></span></li><li><span><a href=\"#Finding-DEGs-within-structural-mutations\" data-toc-modified-id=\"Finding-DEGs-within-structural-mutations-4.3\"><span class=\"toc-item-num\">4.3&nbsp;&nbsp;</span>Finding DEGs within structural mutations</a></span></li></ul></li><li><span><a href=\"#Analysis---Finding-the-effect-of-structural-mutations-on-expression\" data-toc-modified-id=\"Analysis---Finding-the-effect-of-structural-mutations-on-expression-5\"><span class=\"toc-item-num\">5&nbsp;&nbsp;</span>Analysis - Finding the effect of structural mutations on expression</a></span><ul class=\"toc-item\"><li><span><a href=\"#Singular-structural-mutations\" data-toc-modified-id=\"Singular-structural-mutations-5.1\"><span class=\"toc-item-num\">5.1&nbsp;&nbsp;</span>Singular structural mutations</a></span><ul class=\"toc-item\"><li><span><a href=\"#Genes-in-structural-mutations\" data-toc-modified-id=\"Genes-in-structural-mutations-5.1.1\"><span class=\"toc-item-num\">5.1.1&nbsp;&nbsp;</span>Genes in structural mutations</a></span></li><li><span><a href=\"#DEGs-in-structural-mutations\" data-toc-modified-id=\"DEGs-in-structural-mutations-5.1.2\"><span class=\"toc-item-num\">5.1.2&nbsp;&nbsp;</span>DEGs in structural mutations</a></span></li><li><span><a href=\"#Analysis\" data-toc-modified-id=\"Analysis-5.1.3\"><span class=\"toc-item-num\">5.1.3&nbsp;&nbsp;</span>Analysis</a></span></li><li><span><a href=\"#Assigning-expression-change-and-raw-counts-to-each-gene-in-a-Structural-Mutation\" data-toc-modified-id=\"Assigning-expression-change-and-raw-counts-to-each-gene-in-a-Structural-Mutation-5.1.4\"><span class=\"toc-item-num\">5.1.4&nbsp;&nbsp;</span>Assigning expression change and raw counts to each gene in a Structural Mutation</a></span></li><li><span><a href=\"#Distribution-of-expression-change-across-structural-mutation-types\" data-toc-modified-id=\"Distribution-of-expression-change-across-structural-mutation-types-5.1.5\"><span class=\"toc-item-num\">5.1.5&nbsp;&nbsp;</span>Distribution of expression change across structural mutation types</a></span></li><li><span><a href=\"#Correlation-between-the-number-of-structural-mutations-and-DEGs-per-MAline\" data-toc-modified-id=\"Correlation-between-the-number-of-structural-mutations-and-DEGs-per-MAline-5.1.6\"><span class=\"toc-item-num\">5.1.6&nbsp;&nbsp;</span>Correlation between the number of structural mutations and DEGs per MAline</a></span></li></ul></li></ul></li><li><span><a href=\"#Permutations-test---Simulated-DEGs-within/overlapping-structural-mutations\" data-toc-modified-id=\"Permutations-test---Simulated-DEGs-within/overlapping-structural-mutations-6\"><span class=\"toc-item-num\">6&nbsp;&nbsp;</span>Permutations test - Simulated DEGs within/overlapping structural mutations</a></span></li></ul></div>"
   ]
  },
  {
   "cell_type": "markdown",
   "id": "promising-impossible",
   "metadata": {},
   "source": [
    "# Keys"
   ]
  },
  {
   "cell_type": "code",
   "execution_count": 1,
   "id": "surprised-killing",
   "metadata": {},
   "outputs": [],
   "source": [
    "import json\n",
    "import pandas as pd\n",
    "import numpy as np\n",
    "import random\n",
    "import math\n",
    "import matplotlib.pyplot as plt\n",
    "from matplotlib.figure import Figure\n",
    "from matplotlib.ticker import MaxNLocator\n",
    "from matplotlib.gridspec import GridSpec\n",
    "import seaborn as sns\n",
    "import scipy\n",
    "from scipy import stats\n",
    "from scipy.stats import mannwhitneyu\n",
    "from scipy.stats import iqr\n",
    "stats.junk = lambda chisq, df: stats.chi2.sf(chisq, df)\n",
    "import csv\n",
    "import gffpandas.gffpandas as gffpd\n",
    "import scikit_posthocs as sp\n",
    "import itertools\n",
    "from itertools import combinations\n",
    "import pandas as pd\n",
    "import numpy as np\n",
    "import os\n",
    "from sklearn import linear_model\n",
    "import statsmodels.stats.multicomp\n",
    "import statsmodels.formula.api as smf\n",
    "from statsmodels.formula.api import ols\n",
    "from statsmodels.stats.anova import anova_lm\n",
    "\n",
    "#### Names of MA lines ####\n",
    "CC2344 = [\"CC2344-L1\", \"CC2344-L2\", \"CC2344-L3\", \"CC2344-L4\", \"CC2344-L5\", \"CC2344-L6\", \"CC2344-L7\", \"CC2344-L8\", \"CC2344-L9\", \"CC2344-L10\", \"CC2344-L11\", \"CC2344-L12\", \"CC2344-L13\", \"CC2344-L14\", \"CC2344-L15\"]\n",
    "CC2931 = [\"CC2931-L1\", \"CC2931-L2\", \"CC2931-L3\", \"CC2931-L4\", \"CC2931-L5\", \"CC2931-L6\", \"CC2931-L7\", \"CC2931-L9\", \"CC2931-L10\", \"CC2931-L11\", \"CC2931-L13\", \"CC2931-L14\", \"CC2931-L15\"]\n",
    "\n",
    "#### Dataframe recording the generation time per sample ####\n",
    "dic_gen = {}\n",
    "generation = pd.read_csv('/research/projects/chlamydomonas/MAexpression/genome_info/mutation_info/Mutation_Fitness.txt', delimiter = '\\t')\n",
    "generation['Sample'] = generation['Sample'].str.replace('_', '-L')\n",
    "generation = generation.loc[generation['Sample'].isin(CC2344 + CC2931)]\n",
    "\n",
    "for i in generation.index.values:\n",
    "    dic_gen[generation.at[i,'Sample']] = generation.at[i, 'Generation']\n",
    "generations = pd.Series(dic_gen)\n",
    "\n",
    "#### Dataframe recording the mutation count per sample ####\n",
    "all_mutations = pd.read_csv('/research/projects/chlamydomonas/MAexpression/genome_info/mutation_info/all_mutations.csv', delimiter = '\\t')\n",
    "dic_mut = {maline:all_mutations.loc[all_mutations['sample'] == maline].count()[0] for maline in all_mutations['sample'].values.tolist()}\n",
    "mutations = pd.Series(dic_mut)"
   ]
  },
  {
   "cell_type": "markdown",
   "id": "wooden-static",
   "metadata": {},
   "source": [
    "# Preparing dataframes according to mutation type"
   ]
  },
  {
   "cell_type": "code",
   "execution_count": 2,
   "id": "marked-solid",
   "metadata": {},
   "outputs": [],
   "source": [
    "#### Deletions ####\n",
    "df_del = pd.read_csv('/research/projects/chlamydomonas/MAexpression/genome_info/mutation_info/structural_mutations/s_deletions.bed', sep='\\t', comment='#', header=None)\n",
    "header = ['chrom', 'chromStart', 'chromEnd', 'name', 'extra1', 'strand']\n",
    "df_del.columns = header\n",
    "df_del[['sample', 'type', 'old_chrom', 'old_chrom_no', 'old_chromStart', 'old_chromEnd']] = df_del.name.str.split('_', expand = True)\n",
    "df_del = df_del.drop(columns = ['name'])\n",
    "df_del['old_chrom'] = df_del['old_chrom'] + '_' + df_del['old_chrom_no']\n",
    "df_del = df_del.drop(columns = ['old_chrom_no'])\n",
    "\n",
    "#### Duplications ####\n",
    "df_dup = pd.read_csv('/research/projects/chlamydomonas/MAexpression/genome_info/mutation_info/structural_mutations/s_duplications.bed', sep='\\t', comment='#', header=None)\n",
    "header = ['chrom', 'chromStart', 'chromEnd', 'name', 'extra1', 'strand']\n",
    "df_dup.columns = header[:len(df_dup.columns)]\n",
    "df_dup[['sample', 'type', 'old_chrom', 'old_chrom_no', 'old_chromStart', 'old_chromEnd']] = df_dup.name.str.split('_', expand = True)\n",
    "df_dup = df_dup.drop(columns = ['name'])\n",
    "df_dup['old_chrom'] = df_dup['old_chrom'] + '_' + df_dup['old_chrom_no']\n",
    "df_dup = df_dup.drop(columns = ['old_chrom_no'])\n",
    "\n",
    "#### Excisions ####\n",
    "df_ex = pd.read_csv('/research/projects/chlamydomonas/MAexpression/genome_info/mutation_info/structural_mutations/s_excisions.bed', sep='\\t', comment='#', header=None)\n",
    "header = ['chrom', 'chromStart', 'chromEnd', 'name', 'extra1', 'strand']\n",
    "df_ex.columns = header[:len(df_ex.columns)]\n",
    "df_ex[['sample', 'type', 'TE1', 'TE2','old_chrom', 'old_chrom_no', 'old_chromStart', 'old_chromEnd', 'direction']] = df_ex.name.str.split('_', expand = True)\n",
    "df_ex = df_ex.drop(columns = ['name'])\n",
    "df_ex['transposable_elements'] = df_ex['TE1'] + '_' + df_ex['TE2']\n",
    "df_ex['old_chrom'] = df_ex['old_chrom'] + '_' + df_ex['old_chrom_no']\n",
    "df_ex = df_ex.drop(columns = ['old_chrom_no', 'TE1', 'TE2'])\n",
    "\n",
    "#### Insertions ####\n",
    "df_ins = pd.read_csv('/research/projects/chlamydomonas/MAexpression/genome_info/mutation_info/structural_mutations/s_insertions.bed', sep='\\t', comment='#', header=None)\n",
    "header = ['chrom', 'chromStart', 'chromEnd', 'name', 'extra1', 'strand']\n",
    "df_ins.columns = header[:len(df_ins.columns)]\n",
    "df_ins[['sample', 'type', 'TE1', 'TE2','old_chrom', 'old_chrom_no', 'old_chromStart']] = df_ins.name.str.split('_', expand = True)\n",
    "df_ins = df_ins.drop(columns = ['name'])\n",
    "df_ins['transposable_elements'] = df_ins['TE1'] + '_' + df_ins['TE2']\n",
    "df_ins['old_chrom'] = df_ins['old_chrom'] + '_' + df_ins['old_chrom_no']\n",
    "df_ins = df_ins.drop(columns = ['old_chrom_no', 'TE1', 'TE2'])\n",
    "\n",
    "#### Inversions ####\n",
    "df_inv = pd.read_csv('/research/projects/chlamydomonas/MAexpression/genome_info/mutation_info/structural_mutations/s_inversions.bed', sep='\\t', comment='#', header=None)\n",
    "header = ['chrom', 'chromStart', 'chromEnd', 'name', 'extra1', 'strand']\n",
    "df_inv.columns = header[:len(df_inv.columns)]\n",
    "df_inv[['sample', 'type', 'old_chrom', 'old_chrom_no', 'old_chromStart', 'old_chromEnd', 'direction']] = df_inv.name.str.split('_', expand = True)\n",
    "df_inv = df_inv.drop(columns = ['name'])\n",
    "df_inv['old_chrom'] = df_inv['old_chrom'] + '_' + df_inv['old_chrom_no']\n",
    "df_inv = df_inv.drop(columns = ['old_chrom_no'])\n",
    "\n",
    "#### Translocations ####\n",
    "df_trans = pd.read_csv('/research/projects/chlamydomonas/MAexpression/genome_info/mutation_info/structural_mutations/s_translocations.bed', sep='\\t', comment='#', header=None)\n",
    "header = ['chrom', 'chromStart', 'chromEnd', 'name', 'extra1', 'strand']\n",
    "df_trans.columns = header[:len(df_trans.columns)]\n",
    "df_trans[['sample', 'type', 'old_chrom', 'old_chrom_no', 'old_chromStart']] = df_trans.name.str.split('_', expand = True)\n",
    "df_trans = df_trans.drop(columns = ['name'])\n",
    "df_trans['old_chrom'] = df_trans['old_chrom'] + '_' + df_trans['old_chrom_no']\n",
    "df_trans = df_trans.drop(columns = ['old_chrom_no'])"
   ]
  },
  {
   "cell_type": "markdown",
   "id": "deluxe-basket",
   "metadata": {},
   "source": [
    "# Cleaning structural mutations data"
   ]
  },
  {
   "cell_type": "markdown",
   "id": "christian-incident",
   "metadata": {},
   "source": [
    "## Function - Combining all V6 fragments per mutation"
   ]
  },
  {
   "cell_type": "code",
   "execution_count": 114,
   "id": "desperate-document",
   "metadata": {},
   "outputs": [],
   "source": [
    "def cleanSM(df):\n",
    "    \"\"\" When the structural mutations in V5 were lifted onto V6, mutations that \n",
    "    spanned several base pairs in V5 were often split into fragments in V6. This code \n",
    "    provides the entire range of the structural mutation. Please note that mutations that were \n",
    "    initially found in chromosomes 1, 6 and 10 may be found in either chromosome (1, 6, 10) in\n",
    "    the lifted over file \"\"\"\n",
    "    \n",
    "    new_df = pd.DataFrame(columns = df.columns.values.tolist())\n",
    "    for chrom in df['chrom'].unique():\n",
    "        chrom_section = df.loc[(df['chrom'] == chrom) & (df['old_chrom'] == chrom)]\n",
    "        if chrom in ['chromosome_01', 'chromosome_06', 'chromosome_10']:\n",
    "            chrom_section2 = df.loc[(df['chrom'] == chrom) & (df['old_chrom'].isin(['chromosome_01', 'chromosome_06', 'chromosome_10']))]\n",
    "            chrom_section = pd.concat([chrom_section, chrom_section2], axis = 0)\n",
    "            chrom_section = chrom_section.drop_duplicates()\n",
    "        for sample in chrom_section['sample'].unique():\n",
    "            sample_section = chrom_section.loc[chrom_section['sample'] == sample]\n",
    "            for a in sample_section['old_chromStart'].unique():\n",
    "                old_start = sample_section.loc[sample_section['old_chromStart'] == a]\n",
    "                if len(old_start) == 1:\n",
    "                    new_df = pd.concat([new_df, old_start], axis = 0)\n",
    "\n",
    "                else:\n",
    "                    chromStart = min(old_start['chromStart'])\n",
    "                    chromEnd = max(old_start['chromEnd'])\n",
    "                    temporary = old_start.loc[[list(old_start.index.values)[0]]]\n",
    "                    temporary['chromStart'] = chromStart\n",
    "                    temporary['chromEnd'] = chromEnd\n",
    "                    new_df = pd.concat([new_df, temporary], axis = 0)\n",
    "    new_df = new_df.drop_duplicates()\n",
    "    return new_df"
   ]
  },
  {
   "cell_type": "code",
   "execution_count": 115,
   "id": "appreciated-drunk",
   "metadata": {
    "scrolled": true
   },
   "outputs": [],
   "source": [
    "######################################\n",
    "#### Running the function cleanSM ####\n",
    "######################################\n",
    "new_df_del = cleanSM(df_del)\n",
    "new_df_del.to_csv('/research/projects/chlamydomonas/MAexpression/genome_info/mutation_info/structural_mutations/cleaned_deletions.csv', sep = '\\t', header = True)\n",
    "\n",
    "new_df_dup = cleanSM(df_dup)\n",
    "new_df_dup.to_csv('/research/projects/chlamydomonas/MAexpression/genome_info/mutation_info/structural_mutations/cleaned_duplications.csv', sep = '\\t', header = True)\n",
    "\n",
    "new_df_ex = cleanSM(df_ex)\n",
    "new_df_ex.to_csv('/research/projects/chlamydomonas/MAexpression/genome_info/mutation_info/structural_mutations/cleaned_excisions.csv', sep = '\\t', header = True)\n",
    "\n",
    "new_df_ins = cleanSM(df_ins)\n",
    "new_df_ins.to_csv('/research/projects/chlamydomonas/MAexpression/genome_info/mutation_info/structural_mutations/cleaned_insertions.csv', sep = '\\t', header = True)\n",
    "\n",
    "new_df_inv = cleanSM(df_inv)\n",
    "new_df_inv.to_csv('/research/projects/chlamydomonas/MAexpression/genome_info/mutation_info/structural_mutations/cleaned_inversions.csv', sep = '\\t', header = True)\n",
    "\n",
    "new_df_trans = cleanSM(df_trans)\n",
    "new_df_trans.to_csv('/research/projects/chlamydomonas/MAexpression/genome_info/mutation_info/structural_mutations/cleaned_translocations.csv', sep = '\\t', header = True)"
   ]
  },
  {
   "cell_type": "markdown",
   "id": "loaded-heavy",
   "metadata": {},
   "source": [
    "## Function - Distance between fragments"
   ]
  },
  {
   "cell_type": "code",
   "execution_count": 3,
   "id": "pregnant-verification",
   "metadata": {},
   "outputs": [],
   "source": [
    "def distance_fragments(df):\n",
    "    distance = []\n",
    "    for i in df['chrom'].unique():\n",
    "        chrom_section = df.loc[(df['chrom'] == i) & (df['old_chrom'] == i)]\n",
    "        if i in ['chromosome_01', 'chromosome_06', 'chromosome_10']: ## The chromosomal location of SM were interchangeable \n",
    "            chrom_section2 = df.loc[(df['chrom'] == i) & (df['old_chrom'].isin(['chromosome_01', 'chromosome_06', 'chromosome_10']))]\n",
    "            chrom_section = pd.concat([chrom_section, chrom_section2], axis = 0)\n",
    "            chrom_section = chrom_section.drop_duplicates()\n",
    "        for sample in chrom_section['sample'].unique():\n",
    "            sample_section = chrom_section.loc[chrom_section['sample'] == sample]\n",
    "            for a in sample_section['old_chromStart'].unique():\n",
    "                old_start = sample_section.loc[sample_section['old_chromStart'] == a]\n",
    "                for strand in old_start['strand'].unique():\n",
    "                    section1 = old_start.loc[old_start['strand'] == strand].sort_values(by = ['chromStart'])\n",
    "                    arr_start = section1['chromStart'].values.tolist()\n",
    "                    arr_end = section1['chromEnd'].values.tolist()\n",
    "                    try:\n",
    "                        p = 0\n",
    "                        while p <= len(arr_start) - 1:\n",
    "                            start = arr_start[p]\n",
    "                            end = arr_end[p]\n",
    "                            start_2 = arr_start[p+1]\n",
    "                            end_2 = arr_end[p+1]\n",
    "                            distance.append(start_2 - end)\n",
    "                            p += 1\n",
    "                            if p == len(arr_start) - 1:\n",
    "                                break\n",
    "                    except: continue\n",
    "    return distance"
   ]
  },
  {
   "cell_type": "code",
   "execution_count": 5,
   "id": "coral-scotland",
   "metadata": {
    "scrolled": true
   },
   "outputs": [
    {
     "name": "stderr",
     "output_type": "stream",
     "text": [
      "/home/balogu15/.conda/envs/personal/lib/python3.8/site-packages/pandas/core/internals/blocks.py:351: RuntimeWarning: invalid value encountered in log\n",
      "  result = func(self.values, **kwargs)\n"
     ]
    },
    {
     "data": {
      "text/plain": [
       "<AxesSubplot:ylabel='Count'>"
      ]
     },
     "metadata": {},
     "output_type": "display_data"
    },
    {
     "data": {
      "text/plain": [
       "Text(0.5, 1.0, 'Distribution of distances between fragmented structural mutations')"
      ]
     },
     "execution_count": 5,
     "metadata": {},
     "output_type": "execute_result"
    },
    {
     "data": {
      "image/png": "[encoded data removed]",
      "text/plain": [
       "<Figure size 360x360 with 1 Axes>"
      ]
     },
     "metadata": {
      "needs_background": "light"
     },
     "output_type": "display_data"
    }
   ],
   "source": [
    "list_distance = []\n",
    "for i in [df_del, df_ins, df_trans, df_inv, df_dup, df_ex]:\n",
    "    list_distance += distance_fragments(i)\n",
    "# the -4 distance are two insertions that occurred in the same site\n",
    "\n",
    "a = pd.DataFrame(list_distance)\n",
    "plt.figure(figsize = (5,5))\n",
    "display(sns.histplot(np.log(a + 1), legend = False))\n",
    "plt.xlabel('Log scale')\n",
    "plt.title('Distribution of distances between fragmented structural mutations')\n",
    "# Mean distance is 25699"
   ]
  },
  {
   "cell_type": "markdown",
   "id": "processed-reservoir",
   "metadata": {},
   "source": [
    "## Function - Combining fragments based on distance"
   ]
  },
  {
   "cell_type": "code",
   "execution_count": 95,
   "id": "received-forum",
   "metadata": {},
   "outputs": [],
   "source": [
    "def cleanSM_by_distance(df, distance_from_frag):\n",
    "    \"\"\" This code combines fragments that are a set distance away from each other. \n",
    "    That way you can better ascertain the location of the structural mutation when \n",
    "    the fragments span a larger distance.\"\"\"\n",
    "    \n",
    "    new_df = pd.DataFrame(columns = df.columns.values.tolist())\n",
    "    distance = distance_from_frag\n",
    "    for i in df['chrom'].unique():\n",
    "        chrom_section = df.loc[(df['chrom'] == i) & (df['old_chrom'] == i)]\n",
    "        if i in ['chromosome_01', 'chromosome_06', 'chromosome_10']: ## The chromosomal location of SM were interchangeable \n",
    "            chrom_section2 = df.loc[(df['chrom'] == i) & (df['old_chrom'].isin(['chromosome_01', 'chromosome_06', 'chromosome_10']))]\n",
    "            chrom_section = pd.concat([chrom_section, chrom_section2], axis = 0)\n",
    "            chrom_section = chrom_section.drop_duplicates()\n",
    "        for sample in chrom_section['sample'].unique():\n",
    "            sample_section = chrom_section.loc[chrom_section['sample'] == sample]\n",
    "            for a in sample_section['old_chromStart'].unique():\n",
    "                old_start = sample_section.loc[sample_section['old_chromStart'] == a].sort_values(by = ['chromStart'])\n",
    "\n",
    "                new_arr_start = []\n",
    "                new_arr_end = []\n",
    "                if len(old_start) == 1:\n",
    "                    new_df = pd.concat([new_df, old_start], axis = 0)\n",
    "                else:\n",
    "                    arr_start = old_start['chromStart'].values.tolist()\n",
    "                    arr_end = old_start['chromEnd'].values.tolist()\n",
    "\n",
    "                    p = 0\n",
    "                    while p <= len(arr_start) - 1:\n",
    "                        start = arr_start[p]\n",
    "                        end = arr_end[p]\n",
    "                        start_2 = arr_start[p+1]\n",
    "                        end_2 = arr_end[p+1]\n",
    "\n",
    "                        if (start_2 - end) > distance:\n",
    "                            new_arr_start.append(start)\n",
    "                            new_arr_end.append(end)\n",
    "                            p += 1\n",
    "                            if p >= len(arr_start) - 1:\n",
    "                                new_arr_start.append(start_2)\n",
    "                                new_arr_end.append(end_2)\n",
    "                                break\n",
    "                        else:\n",
    "                            new_arr_start.append(start)\n",
    "                            new_arr_end.append(end_2)\n",
    "                            p += 1\n",
    "                            if p >= len(arr_start) - 1:\n",
    "                                break\n",
    "\n",
    "                    if len(new_arr_start) <= 2:\n",
    "                        temp = old_start[0:len(new_arr_start)]\n",
    "                        temp['chromStart'] = new_arr_start\n",
    "                        temp['chromEnd'] = new_arr_end\n",
    "                        new_df = pd.concat([new_df, temp], axis = 0)\n",
    "                        break\n",
    "\n",
    "                    else:\n",
    "                        q = 0\n",
    "                        while q <= len(arr_start):\n",
    "                            q += 1\n",
    "                            z = 0\n",
    "                            while z < len(new_arr_start) - 1:\n",
    "                                start = new_arr_start[z]\n",
    "                                end = new_arr_end[z]\n",
    "                                start_2 = new_arr_start[z+1]\n",
    "                                end_2 = new_arr_end[z+1]\n",
    "\n",
    "                                if start_2 - end > distance:\n",
    "                                    z += 1\n",
    "                                else:\n",
    "                                    new_arr_start.remove(start_2)\n",
    "                                    new_arr_end.remove(end)\n",
    "                                    z += 1\n",
    "                temp = old_start[0:len(new_arr_start)]\n",
    "                temp['chromStart'] = new_arr_start\n",
    "                temp['chromEnd'] = new_arr_end\n",
    "                new_df = pd.concat([new_df, temp], axis = 0)\n",
    "    new_df = new_df.drop_duplicates()\n",
    "    return new_df"
   ]
  },
  {
   "cell_type": "code",
   "execution_count": 196,
   "id": "integrated-responsibility",
   "metadata": {
    "scrolled": true
   },
   "outputs": [
    {
     "name": "stderr",
     "output_type": "stream",
     "text": [
      "<ipython-input-95-fb61d15c46e9>:51: SettingWithCopyWarning: \n",
      "A value is trying to be set on a copy of a slice from a DataFrame.\n",
      "Try using .loc[row_indexer,col_indexer] = value instead\n",
      "\n",
      "See the caveats in the documentation: https://pandas.pydata.org/pandas-docs/stable/user_guide/indexing.html#returning-a-view-versus-a-copy\n",
      "  temp['chromStart'] = new_arr_start\n",
      "<ipython-input-95-fb61d15c46e9>:52: SettingWithCopyWarning: \n",
      "A value is trying to be set on a copy of a slice from a DataFrame.\n",
      "Try using .loc[row_indexer,col_indexer] = value instead\n",
      "\n",
      "See the caveats in the documentation: https://pandas.pydata.org/pandas-docs/stable/user_guide/indexing.html#returning-a-view-versus-a-copy\n",
      "  temp['chromEnd'] = new_arr_end\n",
      "<ipython-input-95-fb61d15c46e9>:51: SettingWithCopyWarning: \n",
      "A value is trying to be set on a copy of a slice from a DataFrame.\n",
      "Try using .loc[row_indexer,col_indexer] = value instead\n",
      "\n",
      "See the caveats in the documentation: https://pandas.pydata.org/pandas-docs/stable/user_guide/indexing.html#returning-a-view-versus-a-copy\n",
      "  temp['chromStart'] = new_arr_start\n",
      "<ipython-input-95-fb61d15c46e9>:52: SettingWithCopyWarning: \n",
      "A value is trying to be set on a copy of a slice from a DataFrame.\n",
      "Try using .loc[row_indexer,col_indexer] = value instead\n",
      "\n",
      "See the caveats in the documentation: https://pandas.pydata.org/pandas-docs/stable/user_guide/indexing.html#returning-a-view-versus-a-copy\n",
      "  temp['chromEnd'] = new_arr_end\n",
      "<ipython-input-95-fb61d15c46e9>:51: SettingWithCopyWarning: \n",
      "A value is trying to be set on a copy of a slice from a DataFrame.\n",
      "Try using .loc[row_indexer,col_indexer] = value instead\n",
      "\n",
      "See the caveats in the documentation: https://pandas.pydata.org/pandas-docs/stable/user_guide/indexing.html#returning-a-view-versus-a-copy\n",
      "  temp['chromStart'] = new_arr_start\n",
      "<ipython-input-95-fb61d15c46e9>:52: SettingWithCopyWarning: \n",
      "A value is trying to be set on a copy of a slice from a DataFrame.\n",
      "Try using .loc[row_indexer,col_indexer] = value instead\n",
      "\n",
      "See the caveats in the documentation: https://pandas.pydata.org/pandas-docs/stable/user_guide/indexing.html#returning-a-view-versus-a-copy\n",
      "  temp['chromEnd'] = new_arr_end\n"
     ]
    }
   ],
   "source": [
    "##################################################\n",
    "#### Running the function cleanSM_by_distance ####\n",
    "##################################################\n",
    "\n",
    "for i in [25699]:\n",
    "    new_df_del = cleanSM_by_distance(df_del, i)\n",
    "    new_df_del.to_csv('/research/projects/chlamydomonas/MAexpression/genome_info/mutation_info/structural_mutations/cleaned_by_distance_deletions.csv', sep = '\\t', header = True)\n",
    "\n",
    "    new_df_dup = cleanSM_by_distance(df_dup, i)\n",
    "    new_df_dup.to_csv('/research/projects/chlamydomonas/MAexpression/genome_info/mutation_info/structural_mutations/cleaned_by_distance_duplications.csv', sep = '\\t', header = True)\n",
    "\n",
    "    new_df_ex = cleanSM_by_distance(df_ex, i)\n",
    "    new_df_ex.to_csv('/research/projects/chlamydomonas/MAexpression/genome_info/mutation_info/structural_mutations/cleaned_by_distance_excisions.csv', sep = '\\t', header = True)\n",
    "\n",
    "    new_df_ins = cleanSM_by_distance(df_ins, i)\n",
    "    new_df_ins.to_csv('/research/projects/chlamydomonas/MAexpression/genome_info/mutation_info/structural_mutations/cleaned_by_distance_insertions.csv', sep = '\\t', header = True)\n",
    "\n",
    "    new_df_inv = cleanSM_by_distance(df_inv, i)\n",
    "    new_df_inv.to_csv('/research/projects/chlamydomonas/MAexpression/genome_info/mutation_info/structural_mutations/cleaned_by_distance_inversions.csv', sep = '\\t', header = True)\n",
    "\n",
    "    new_df_trans = cleanSM_by_distance(df_trans, i)\n",
    "    new_df_trans.to_csv('/research/projects/chlamydomonas/MAexpression/genome_info/mutation_info/structural_mutations/cleaned_by_distance_translocations.csv', sep = '\\t', header = True)"
   ]
  },
  {
   "cell_type": "markdown",
   "id": "mineral-envelope",
   "metadata": {},
   "source": [
    "# Functions - Finding the effect of structural mutations on expression"
   ]
  },
  {
   "cell_type": "markdown",
   "id": "flush-spare",
   "metadata": {},
   "source": [
    "## Getting information on DEGs"
   ]
  },
  {
   "cell_type": "code",
   "execution_count": 2,
   "id": "floppy-contrast",
   "metadata": {
    "scrolled": true
   },
   "outputs": [],
   "source": [
    "CC2931_l2f = pd.read_csv('/research/projects/chlamydomonas/MAexpression/analysis/raw_counts/CC2931_log2Fold', delimiter = '\\t', index_col = 'Unnamed: 0')\n",
    "CC2931_l2f = CC2931_l2f.drop(['CC2931-ANC'], axis = 1)\n",
    "\n",
    "#### List of samples with known structural mutations ####\n",
    "CC2931 = [\"CC2931-L1\", 'CC2931-L2', \"CC2931-L6\", 'CC2931-L9',\"CC2931-L11\", \"CC2931-L13\", \"CC2931-L14\", \"CC2931-L15\"]\n",
    "\n",
    "#### Differentially expressed genes ####\n",
    "DEGs = pd.read_csv('/research/projects/chlamydomonas/MAexpression/analysis/DEGs/total_genes1.csv', delimiter = ',')\n",
    "DEGs = DEGs.reset_index()\n",
    "DEGs = pd.melt(DEGs, id_vars = 'index', value_vars = DEGs.columns[1:])\n",
    "DEGs = DEGs.dropna().drop(columns = ['index'])\n",
    "DEGs = DEGs.rename(columns = {'variable':'sample'})\n",
    "    \n",
    "DEGs = DEGs.loc[DEGs['sample'].isin(CC2931)]\n",
    "\n",
    "#### Assigning the expression change to each DEG ####\n",
    "for i in list(DEGs.index.values):\n",
    "    if 'CC2931' in DEGs.at[i, 'sample']:\n",
    "        DEGs.at[i, 'L2F'] = CC2931_l2f.at[DEGs.at[i, 'value'], DEGs.at[i, 'sample']]"
   ]
  },
  {
   "cell_type": "markdown",
   "id": "psychological-prior",
   "metadata": {},
   "source": [
    "## Functions - Isolating genes in structural mutations"
   ]
  },
  {
   "cell_type": "code",
   "execution_count": 3,
   "id": "brave-forge",
   "metadata": {
    "scrolled": false
   },
   "outputs": [],
   "source": [
    "def genes_overlapping_SM(df):\n",
    "    \"\"\" This code identifies the name of genes overlapped by structural mutations. \"\"\"\n",
    "    \n",
    "    ## File provides the location of the genes in the reference version 6 genome ##\n",
    "    annotation = pd.read_csv('/research/projects/chlamydomonas/MAexpression/analysis/annotation/v6_genes.csv', delimiter = '\\t')\n",
    "    annotation = annotation.replace(r'^\\s*$', np.nan, regex=True)\n",
    "    \n",
    "    df['genename'] = 'intergenic'\n",
    "    df = df.drop(columns = ['index'])\n",
    "\n",
    "    #### Extracting genenames of overlapping or within structural mutations ####\n",
    "    for idx in df.index.values:\n",
    "        chrom = annotation.loc[(annotation['seq_id'] == df.at[idx, 'chrom']) & (annotation['strand'] == df.at[idx, 'strand'])]\n",
    "        end_SM_in_gene = chrom.loc[(chrom['start'] <= df.at[idx, 'chromEnd']) & (chrom['end'] >= df.at[idx, 'chromEnd'])] ## finding the genes at the end of the SM\n",
    "        start_SM_in_gene = chrom.loc[(chrom['start'] <= df.at[idx, 'chromStart']) & (chrom['end'] >= df.at[idx, 'chromStart'])]\n",
    "        SM_within_gene = chrom.loc[(chrom['start'] <= df.at[idx, 'chromStart']) & (chrom['end'] >= df.at[idx, 'chromEnd'])]\n",
    "        genes_in_SM = chrom.loc[(df.at[idx, 'chromStart'] <= chrom['start']) & (chrom['end'] <= df.at[idx, 'chromEnd'])]\n",
    "        chrom = pd.concat([end_SM_in_gene, start_SM_in_gene, SM_within_gene, genes_in_SM], axis = 0).drop_duplicates()\n",
    "        if len(chrom) != 0:\n",
    "            df.at[idx, 'genename'] = list(np.unique(chrom['attributes'])) ## Adding the name of the gene(s) that the structural mutation overlap with\n",
    "    return df"
   ]
  },
  {
   "cell_type": "markdown",
   "id": "involved-wheat",
   "metadata": {},
   "source": [
    "## Finding DEGs within structural mutations"
   ]
  },
  {
   "cell_type": "code",
   "execution_count": 4,
   "id": "renewable-arctic",
   "metadata": {
    "scrolled": true
   },
   "outputs": [],
   "source": [
    "def DEGs_in_SM(df, DEGs):\n",
    "    \"\"\" This code identifies DEGs within structural mutations. \"\"\"\n",
    "    \n",
    "    df = pd.read_csv('/research/projects/chlamydomonas/MAexpression/genome_info/mutation_info/structural_mutations/locations_of_SMs.csv', delimiter = '\\t')\n",
    "    df = df.drop(columns = 'Unnamed: 0')\n",
    "\n",
    "    for i in df.index.values:\n",
    "        if df.at[i, 'genename'] != 'intergenic':\n",
    "            df.at[i, 'genename'] = pd.eval(df.at[i, 'genename'])\n",
    "\n",
    "    df['degs_in_sm'] = np.nan\n",
    "    df['genes_in_sm'] = np.nan\n",
    "    df['perc_degs_in_sm'] = np.nan\n",
    "\n",
    "    #### Number of degs in structural mutations ####\n",
    "    for maline in df['sample'].unique():\n",
    "        sample_DEGs = DEGs.loc[DEGs['sample'] == maline]\n",
    "        sample_SM = df.loc[(df['sample'] == maline) & (df['genename'] != 'intergenic')]\n",
    "        for idx in sample_SM.index.values:\n",
    "            genes = sample_SM.loc[idx, 'genename']\n",
    "            if genes != 'intergenic':\n",
    "                df.at[idx, 'genes_in_sm'] = len(genes)\n",
    "            try:\n",
    "                degs = sample_DEGs.loc[sample_DEGs['value'].isin(genes)]\n",
    "                df.at[idx, 'degs_in_sm'] = len(degs)\n",
    "                df.at[idx, 'perc_degs_in_sm'] = len(degs)/df.at[idx, 'genes_in_sm']\n",
    "            except:\n",
    "                continue\n",
    "    return df"
   ]
  },
  {
   "cell_type": "markdown",
   "id": "valuable-dakota",
   "metadata": {},
   "source": [
    "# Analysis - Finding the effect of structural mutations on expression"
   ]
  },
  {
   "cell_type": "markdown",
   "id": "laughing-limit",
   "metadata": {},
   "source": [
    "## Singular structural mutations"
   ]
  },
  {
   "cell_type": "markdown",
   "id": "jewish-child",
   "metadata": {},
   "source": [
    "### Genes in structural mutations"
   ]
  },
  {
   "cell_type": "code",
   "execution_count": 5,
   "id": "capital-steel",
   "metadata": {},
   "outputs": [],
   "source": [
    "## Opening files with structural mutations categorized by the mutation type ##\n",
    "df_inv = pd.read_csv('/research/projects/chlamydomonas/MAexpression/genome_info/mutation_info/structural_mutations/cleaned_by_distance_inversions.csv', delimiter = '\\t')\n",
    "df_del = pd.read_csv('/research/projects/chlamydomonas/MAexpression/genome_info/mutation_info/structural_mutations/cleaned_by_distance_deletions.csv', delimiter = '\\t')\n",
    "df_dup = pd.read_csv('/research/projects/chlamydomonas/MAexpression/genome_info/mutation_info/structural_mutations/cleaned_by_distance_duplications.csv', delimiter = '\\t')\n",
    "df_trans = pd.read_csv('/research/projects/chlamydomonas/MAexpression/genome_info/mutation_info/structural_mutations/cleaned_by_distance_translocations.csv', delimiter = '\\t')\n",
    "df_ex = pd.read_csv('/research/projects/chlamydomonas/MAexpression/genome_info/mutation_info/structural_mutations/cleaned_by_distance_excisions.csv', delimiter = '\\t')\n",
    "df_ins = pd.read_csv('/research/projects/chlamydomonas/MAexpression/genome_info/mutation_info/structural_mutations/cleaned_by_distance_insertions.csv', delimiter = '\\t')\n",
    "\n",
    "## Combining structural mutations into a single dataframe ##\n",
    "df = pd.concat([df_del, df_dup, df_ex, df_ins, df_inv, df_trans], axis = 0).drop(columns = ['Unnamed: 0']).reset_index()\n",
    "df['sample'] = df['sample'].replace('L', 'CC2931-L', regex = True)\n",
    "df = genes_overlapping_SM(df)\n",
    "df.to_csv('/research/projects/chlamydomonas/MAexpression/genome_info/mutation_info/structural_mutations/locations_of_SMs.csv', sep = '\\t', header = True, index = True)"
   ]
  },
  {
   "cell_type": "markdown",
   "id": "moderate-column",
   "metadata": {},
   "source": [
    "### DEGs in structural mutations"
   ]
  },
  {
   "cell_type": "code",
   "execution_count": 6,
   "id": "smoking-convert",
   "metadata": {
    "scrolled": true
   },
   "outputs": [],
   "source": [
    "df = pd.read_csv('/research/projects/chlamydomonas/MAexpression/genome_info/mutation_info/structural_mutations/locations_of_SMs.csv', delimiter = '\\t')\n",
    "df = df.drop(columns = 'Unnamed: 0')\n",
    "df = DEGs_in_SM(df, DEGs)"
   ]
  },
  {
   "cell_type": "markdown",
   "id": "measured-packet",
   "metadata": {},
   "source": [
    "### Analysis"
   ]
  },
  {
   "cell_type": "code",
   "execution_count": 7,
   "id": "meaning-arthur",
   "metadata": {
    "scrolled": true
   },
   "outputs": [
    {
     "name": "stdout",
     "output_type": "stream",
     "text": [
      "deletion = 12405.066666666668\n",
      "deletion = 21986.172084376343\n",
      "duplication = 16226.518518518518\n",
      "duplication = 21051.66337509084\n",
      "excision = 8.833333333333334\n",
      "excision = 6.58206118262089\n",
      "insertion = 263.3813559322034\n",
      "insertion = 1523.4780266774726\n",
      "inversion = 1504.357142857143\n",
      "inversion = 3104.256125613122\n",
      "translocation = 10.0\n",
      "translocation = 1.8708286933869707\n",
      "deletion    0.5555555555555556\n",
      "duplication    0.40229885057471265\n",
      "excision    0.3333333333333333\n",
      "insertion    0.3695652173913043\n",
      "inversion    0.5\n",
      "translocation    0.2\n",
      "all     0.391304347826087\n",
      "CC2931-L14    0.36666666666666664\n",
      "CC2931-L15    0.6190476190476191\n",
      "CC2931-L1    0.2727272727272727\n",
      "CC2931-L2    0.45161290322580644\n",
      "CC2931-L9    0.21428571428571427\n",
      "CC2931-L6    0.5\n",
      "CC2931-L11    0.4\n",
      "CC2931-L13    0.32\n"
     ]
    },
    {
     "data": {
      "text/plain": [
       "(array([  0.,  20.,  40.,  60.,  80., 100.]),\n",
       " [Text(0, 0, ''),\n",
       "  Text(0, 0, ''),\n",
       "  Text(0, 0, ''),\n",
       "  Text(0, 0, ''),\n",
       "  Text(0, 0, ''),\n",
       "  Text(0, 0, '')])"
      ]
     },
     "execution_count": 7,
     "metadata": {},
     "output_type": "execute_result"
    },
    {
     "data": {
      "image/png": "[encoded data removed]",
      "text/plain": [
       "<Figure size 1080x720 with 1 Axes>"
      ]
     },
     "metadata": {
      "needs_background": "light"
     },
     "output_type": "display_data"
    }
   ],
   "source": [
    "#### Length of structural mutations ####\n",
    "df['length_sm (bps)'] = df['chromEnd'] - df['chromStart'] \n",
    "for i in df['type'].unique():\n",
    "    print(i + ' = ' + str(df.loc[df['type'] == i]['length_sm (bps)'].mean()))\n",
    "    print(i + ' = ' + str(df.loc[df['type'] == i]['length_sm (bps)'].std()))\n",
    "\n",
    "df2 = df.copy()\n",
    "df2['genename'] = df2['genename'].astype(str)\n",
    "df2 = df2.drop_duplicates(subset = ['genename', 'sample', 'type'])\n",
    "\n",
    "#### Percent of structural mutations that are DEGs ####\n",
    "for i in df2['type'].unique():\n",
    "    print(i + '    ' + str(df2.loc[df2['type'] == i]['degs_in_sm'].sum()/df2.loc[(df2['type'] == i)]['genes_in_sm'].sum()))\n",
    "    \n",
    "print('all' + '     ' + str(df2['degs_in_sm'].sum()/df2['genes_in_sm'].sum()))\n",
    "\n",
    "#### Percent of structural mutations that are DEGs per MA line ####\n",
    "for i in df2['sample'].unique():\n",
    "    print(i + '    ' + str(df2.loc[df2['sample'] == i]['degs_in_sm'].sum()/df2.loc[df2['sample'] == i]['genes_in_sm'].sum()))\n",
    "\n",
    "#### Graph ####\n",
    "import matplotlib.patches as mpatches \n",
    "prop_DEGs_nearSM = pd.DataFrame()\n",
    "\n",
    "for i in df2.type.unique():\n",
    "    prop_DEGs_nearSM.at[i, 'no.genes'] = df2.loc[(df2['type'] == i)]['genes_in_sm'].sum()\n",
    "    prop_DEGs_nearSM.at[i, 'no.degs.in.sm'] = df2.loc[df2['type'] == i]['degs_in_sm'].sum()\n",
    "    \n",
    "prop_DEGs_nearSM = prop_DEGs_nearSM.reset_index().rename(columns={'index': 'type'})\n",
    "\n",
    "plt.figure(figsize = (15,10))\n",
    "bar1 = sns.barplot(x = \"type\",  y = \"no.genes\", data = prop_DEGs_nearSM, color = sns.color_palette()[0])\n",
    "bar2 = sns.barplot(x = \"type\",  y = \"no.degs.in.sm\", data = prop_DEGs_nearSM, color = sns.color_palette()[1])\n",
    "a = mpatches.Patch(color = sns.color_palette()[0], label = 'Structural variants nonDEGs') \n",
    "b = mpatches.Patch(color = sns.color_palette()[1], label = 'Structural variants near DEGs') \n",
    "plt.legend(handles=[a, b], fontsize = 20) \n",
    "plt.xlabel('Structural variants', fontsize = 25)\n",
    "plt.ylabel('Number of genes', fontsize = 25)\n",
    "plt.xticks(rotation = 45, fontsize = 17)\n",
    "plt.yticks(fontsize = 17)\n",
    "# plt.savefig('/research/projects/chlamydomonas/MAexpression/analysis/DEGs/SM_distribution.pdf', format = 'pdf', dpi = 600, bbox_inches = 'tight')"
   ]
  },
  {
   "cell_type": "markdown",
   "id": "dietary-duplicate",
   "metadata": {},
   "source": [
    "### Assigning expression change and raw counts to each gene in a Structural Mutation"
   ]
  },
  {
   "cell_type": "code",
   "execution_count": 10,
   "id": "continuous-thinking",
   "metadata": {
    "scrolled": true
   },
   "outputs": [],
   "source": [
    "CC2931_l2f = pd.read_csv('/research/projects/chlamydomonas/MAexpression/analysis/raw_counts/CC2931_log2Fold', delimiter = '\\t', index_col = 'Unnamed: 0')\n",
    "CC2931_rawcounts = pd.read_csv('/research/projects/chlamydomonas/MAexpression/analysis/raw_counts/CC2931_deseq_filtered_normalized.txt', delimiter = '\\t', index_col = 'Unnamed: 0')\n",
    "\n",
    "for maline in CC2931:\n",
    "    CC2931_rawcounts[maline + '_avg'] = CC2931_rawcounts[[maline + '-rep1', maline + '-rep2', maline + '-rep3']].mean(axis = 1)\n",
    "    \n",
    "df = df.explode('genename').reset_index().drop(columns = ['index']) ### expanding genes within a structural mutation into separate rows\n",
    "df['L2F'] = np.nan\n",
    "df['raw_counts'] = np.nan\n",
    "df['expression_change'] = 'no_change'\n",
    "\n",
    "for idx in df.index.values:\n",
    "    try:\n",
    "        l2f = CC2931_l2f.loc[df.at[idx, 'genename'], df.at[idx, 'sample']]\n",
    "        counts = CC2931_rawcounts.loc[df.at[idx, 'genename'], df.at[idx, 'sample'] + '_avg']\n",
    "        df.at[idx, 'L2F'] = l2f\n",
    "        df.at[idx, 'raw_counts'] = counts\n",
    "        if l2f > 0:\n",
    "            df.at[idx, 'expression_change'] = 'up_regulated'\n",
    "        if l2f < 0:\n",
    "            df.at[idx, 'expression_change'] = 'down_regulated'\n",
    "    except: continue"
   ]
  },
  {
   "cell_type": "markdown",
   "id": "interpreted-allah",
   "metadata": {},
   "source": [
    "### Distribution of expression change across structural mutation types"
   ]
  },
  {
   "cell_type": "code",
   "execution_count": 15,
   "id": "positive-major",
   "metadata": {
    "scrolled": true
   },
   "outputs": [
    {
     "name": "stdout",
     "output_type": "stream",
     "text": [
      "deletion   upregulated : 1  downregulated : 8  nochange : 0\n",
      "duplication   upregulated : 68  downregulated : 15  nochange : 4\n",
      "excision   upregulated : 2  downregulated : 1  nochange : 0\n",
      "insertion   upregulated : 22  downregulated : 23  nochange : 1\n",
      "inversion   upregulated : 3  downregulated : 3  nochange : 0\n",
      "translocation   upregulated : 5  downregulated : 5  nochange : 0\n"
     ]
    },
    {
     "data": {
      "image/png": "[encoded data removed]",
      "text/plain": [
       "<Figure size 432x288 with 1 Axes>"
      ]
     },
     "metadata": {
      "needs_background": "light"
     },
     "output_type": "display_data"
    },
    {
     "data": {
      "image/png": "[encoded data removed]",
      "text/plain": [
       "<Figure size 432x288 with 1 Axes>"
      ]
     },
     "metadata": {
      "needs_background": "light"
     },
     "output_type": "display_data"
    },
    {
     "data": {
      "image/png": "[encoded data removed]",
      "text/plain": [
       "<Figure size 432x288 with 1 Axes>"
      ]
     },
     "metadata": {
      "needs_background": "light"
     },
     "output_type": "display_data"
    },
    {
     "data": {
      "image/png": "[encoded data removed]",
      "text/plain": [
       "<Figure size 432x288 with 1 Axes>"
      ]
     },
     "metadata": {
      "needs_background": "light"
     },
     "output_type": "display_data"
    },
    {
     "data": {
      "image/png": "[encoded data removed]",
      "text/plain": [
       "<Figure size 432x288 with 1 Axes>"
      ]
     },
     "metadata": {
      "needs_background": "light"
     },
     "output_type": "display_data"
    },
    {
     "data": {
      "image/png": "[encoded data removed]",
      "text/plain": [
       "<Figure size 432x288 with 1 Axes>"
      ]
     },
     "metadata": {
      "needs_background": "light"
     },
     "output_type": "display_data"
    }
   ],
   "source": [
    "#### Distribution of the expression change of genes overlapped by structural mutations ####\n",
    "df = df.loc[df['genename'] != 'intergenic']\n",
    "for sm in df['type'].unique():\n",
    "    upregulated = 0\n",
    "    downregulated = 0\n",
    "    nochange = 0\n",
    "    section = df.loc[df['type'] == sm]\n",
    "    plt.figure()\n",
    "    plt.title(sm)\n",
    "    sns.histplot(section['L2F'])\n",
    "#     print(sm + '  ' + str(section['L2F'].mean()))\n",
    "    for maline in section['sample'].unique():\n",
    "        section1 = section.loc[section['sample'] == maline]\n",
    "        for gene in section1['genename'].unique():\n",
    "            a = section1.loc[section1['genename'] == gene]['expression_change'].values[0]\n",
    "            if a == 'up_regulated':\n",
    "                upregulated += 1\n",
    "            if a == 'down_regulated':\n",
    "                downregulated += 1\n",
    "            if a == 'no_change':\n",
    "                nochange += 1\n",
    "    print(sm + '   ' + \"upregulated : \" + str(upregulated) + '  ' + 'downregulated : ' + str(downregulated) + '  ' + 'nochange : ' + str(nochange))"
   ]
  },
  {
   "cell_type": "code",
   "execution_count": 15,
   "id": "dramatic-click",
   "metadata": {
    "scrolled": true
   },
   "outputs": [
    {
     "data": {
      "image/png": "[encoded data removed]",
      "text/plain": [
       "<Figure size 432x288 with 1 Axes>"
      ]
     },
     "metadata": {
      "needs_background": "light"
     },
     "output_type": "display_data"
    },
    {
     "data": {
      "image/png": "[encoded data removed]",
      "text/plain": [
       "<Figure size 432x288 with 1 Axes>"
      ]
     },
     "metadata": {
      "needs_background": "light"
     },
     "output_type": "display_data"
    },
    {
     "data": {
      "image/png": "[encoded data removed]",
      "text/plain": [
       "<Figure size 432x288 with 1 Axes>"
      ]
     },
     "metadata": {
      "needs_background": "light"
     },
     "output_type": "display_data"
    },
    {
     "data": {
      "image/png": "[encoded data removed]",
      "text/plain": [
       "<Figure size 432x288 with 1 Axes>"
      ]
     },
     "metadata": {
      "needs_background": "light"
     },
     "output_type": "display_data"
    },
    {
     "data": {
      "image/png": "[encoded data removed]",
      "text/plain": [
       "<Figure size 432x288 with 1 Axes>"
      ]
     },
     "metadata": {
      "needs_background": "light"
     },
     "output_type": "display_data"
    },
    {
     "data": {
      "image/png": "[encoded data removed]",
      "text/plain": [
       "<Figure size 432x288 with 1 Axes>"
      ]
     },
     "metadata": {
      "needs_background": "light"
     },
     "output_type": "display_data"
    }
   ],
   "source": [
    "for i in df.type.unique():\n",
    "    plt.figure()\n",
    "    plt.title(i)\n",
    "    sns.histplot(df.loc[df['type'] == i]['expression_change'])"
   ]
  },
  {
   "cell_type": "markdown",
   "id": "behavioral-sally",
   "metadata": {},
   "source": [
    "### Correlation between the number of structural mutations and DEGs per MAline"
   ]
  },
  {
   "cell_type": "code",
   "execution_count": 30,
   "id": "declared-raleigh",
   "metadata": {},
   "outputs": [
    {
     "data": {
      "text/plain": [
       "PearsonRResult(statistic=-0.45967422560113574, pvalue=0.2518262072409676)"
      ]
     },
     "metadata": {},
     "output_type": "display_data"
    },
    {
     "data": {
      "text/plain": [
       "<AxesSubplot:>"
      ]
     },
     "execution_count": 30,
     "metadata": {},
     "output_type": "execute_result"
    },
    {
     "data": {
      "image/png": "[encoded data removed]",
      "text/plain": [
       "<Figure size 432x288 with 1 Axes>"
      ]
     },
     "metadata": {
      "needs_background": "light"
     },
     "output_type": "display_data"
    }
   ],
   "source": [
    "#### Correlation of genes in structural mutations vs DEGs ####\n",
    "SM = []\n",
    "degs = []\n",
    "for sample in df['sample'].unique():\n",
    "    SM.append(len(df.loc[df['sample'] == sample]))\n",
    "    degs.append(len(DEGs.loc[DEGs['sample'] == sample]['value'].unique()))\n",
    "display(scipy.stats.pearsonr(SM, degs))\n",
    "sns.scatterplot(x = SM, y = degs)"
   ]
  },
  {
   "cell_type": "markdown",
   "id": "graphic-montgomery",
   "metadata": {},
   "source": [
    "# Permutations test - Simulated DEGs within/overlapping structural mutations "
   ]
  },
  {
   "cell_type": "code",
   "execution_count": 213,
   "id": "chemical-enemy",
   "metadata": {
    "scrolled": true
   },
   "outputs": [],
   "source": [
    "#### List of samples with known structural mutations ####\n",
    "CC2931 = [\"CC2931-L1\", 'CC2931-L2', \"CC2931-L6\", 'CC2931-L9',\"CC2931-L11\", \"CC2931-L13\", \"CC2931-L14\", \"CC2931-L15\"]\n",
    "\n",
    "## File provides the location of the genes in the reference version 6 genome ##\n",
    "annotation = pd.read_csv('/research/projects/chlamydomonas/MAexpression/analysis/annotation/v6_genes.csv', delimiter = '\\t')\n",
    "annotation = annotation.replace(r'^\\s*$', np.nan, regex=True)\n",
    "\n",
    "permutations = pd.DataFrame(columns = CC2931)\n",
    "for trials in range(1000):\n",
    "    ## Preparing simulated DEGs ##\n",
    "    simulated_DEGs = {}\n",
    "    for sample in CC2931:\n",
    "        no_degs = len(DEGs.loc[DEGs['sample'] == sample])\n",
    "        simulated_DEGs[sample] = list(random.choices(annotation['attributes'].values.tolist(), k = no_degs))\n",
    "\n",
    "    simulated_DEGs = pd.DataFrame(dict([(key, pd.Series(value)) for key, value in simulated_DEGs.items()]))\n",
    "    simulated_DEGs = simulated_DEGs.reset_index()\n",
    "    simulated_DEGs = pd.melt(simulated_DEGs, id_vars = 'index', value_vars = simulated_DEGs.columns[1:])\n",
    "    simulated_DEGs = simulated_DEGs.dropna().drop(columns = ['index'])\n",
    "    simulated_DEGs = simulated_DEGs.rename(columns = {'variable':'sample'})\n",
    "\n",
    "    df1 = pd.read_csv('/research/projects/chlamydomonas/MAexpression/genome_info/mutation_info/structural_mutations/locations_of_SMs.csv', delimiter = '\\t')\n",
    "    df1 = df1.drop(columns = 'Unnamed: 0')\n",
    "    df1 = DEGs_in_SM(df1, simulated_DEGs)\n",
    "    df1['genename'] = df1['genename'].astype(str)\n",
    "    df1 = df1.drop_duplicates(subset = ['genename', 'sample', 'type']) ## removes multiple sm's in the same gene\n",
    "    for i in df1['sample'].unique():\n",
    "        permutations.at[trials, i] = df1.loc[df1['sample'] == i]['degs_in_sm'].sum()/df1.loc[df1['sample'] == i]['genes_in_sm'].sum()\n",
    "\n",
    "permutations.to_csv('/research/projects/chlamydomonas/MAexpression/analysis/DEGs/simulatedDEGsinSM.csv', sep = '\\t', header = True, index = True)"
   ]
  },
  {
   "cell_type": "code",
   "execution_count": 218,
   "id": "fantastic-queens",
   "metadata": {},
   "outputs": [
    {
     "data": {
      "text/html": [
       "<div>\n",
       "<style scoped>\n",
       "    .dataframe tbody tr th:only-of-type {\n",
       "        vertical-align: middle;\n",
       "    }\n",
       "\n",
       "    .dataframe tbody tr th {\n",
       "        vertical-align: top;\n",
       "    }\n",
       "\n",
       "    .dataframe thead th {\n",
       "        text-align: right;\n",
       "    }\n",
       "</style>\n",
       "<table border=\"1\" class=\"dataframe\">\n",
       "  <thead>\n",
       "    <tr style=\"text-align: right;\">\n",
       "      <th></th>\n",
       "      <th>CC2931-L1</th>\n",
       "      <th>CC2931-L2</th>\n",
       "      <th>CC2931-L6</th>\n",
       "      <th>CC2931-L9</th>\n",
       "      <th>CC2931-L11</th>\n",
       "      <th>CC2931-L13</th>\n",
       "      <th>CC2931-L14</th>\n",
       "      <th>CC2931-L15</th>\n",
       "    </tr>\n",
       "  </thead>\n",
       "  <tbody>\n",
       "    <tr>\n",
       "      <th>0</th>\n",
       "      <td>0.136364</td>\n",
       "      <td>0.129032</td>\n",
       "      <td>0.25</td>\n",
       "      <td>0.0</td>\n",
       "      <td>0.1</td>\n",
       "      <td>0.08</td>\n",
       "      <td>0.133333</td>\n",
       "      <td>0.238095</td>\n",
       "    </tr>\n",
       "    <tr>\n",
       "      <th>1</th>\n",
       "      <td>0.090909</td>\n",
       "      <td>0.129032</td>\n",
       "      <td>0.375</td>\n",
       "      <td>0.0</td>\n",
       "      <td>0.1</td>\n",
       "      <td>0.08</td>\n",
       "      <td>0.1</td>\n",
       "      <td>0.190476</td>\n",
       "    </tr>\n",
       "    <tr>\n",
       "      <th>2</th>\n",
       "      <td>0.272727</td>\n",
       "      <td>0.032258</td>\n",
       "      <td>0.625</td>\n",
       "      <td>0.0</td>\n",
       "      <td>0.1</td>\n",
       "      <td>0.04</td>\n",
       "      <td>0.233333</td>\n",
       "      <td>0.095238</td>\n",
       "    </tr>\n",
       "    <tr>\n",
       "      <th>3</th>\n",
       "      <td>0.045455</td>\n",
       "      <td>0.0</td>\n",
       "      <td>0.25</td>\n",
       "      <td>0.071429</td>\n",
       "      <td>0.1</td>\n",
       "      <td>0.16</td>\n",
       "      <td>0.1</td>\n",
       "      <td>0.047619</td>\n",
       "    </tr>\n",
       "    <tr>\n",
       "      <th>4</th>\n",
       "      <td>0.0</td>\n",
       "      <td>0.0</td>\n",
       "      <td>0.125</td>\n",
       "      <td>0.071429</td>\n",
       "      <td>0.0</td>\n",
       "      <td>0.0</td>\n",
       "      <td>0.133333</td>\n",
       "      <td>0.047619</td>\n",
       "    </tr>\n",
       "    <tr>\n",
       "      <th>...</th>\n",
       "      <td>...</td>\n",
       "      <td>...</td>\n",
       "      <td>...</td>\n",
       "      <td>...</td>\n",
       "      <td>...</td>\n",
       "      <td>...</td>\n",
       "      <td>...</td>\n",
       "      <td>...</td>\n",
       "    </tr>\n",
       "    <tr>\n",
       "      <th>995</th>\n",
       "      <td>0.181818</td>\n",
       "      <td>0.0</td>\n",
       "      <td>0.25</td>\n",
       "      <td>0.0</td>\n",
       "      <td>0.0</td>\n",
       "      <td>0.0</td>\n",
       "      <td>0.066667</td>\n",
       "      <td>0.095238</td>\n",
       "    </tr>\n",
       "    <tr>\n",
       "      <th>996</th>\n",
       "      <td>0.0</td>\n",
       "      <td>0.064516</td>\n",
       "      <td>0.5</td>\n",
       "      <td>0.0</td>\n",
       "      <td>0.3</td>\n",
       "      <td>0.04</td>\n",
       "      <td>0.066667</td>\n",
       "      <td>0.238095</td>\n",
       "    </tr>\n",
       "    <tr>\n",
       "      <th>997</th>\n",
       "      <td>0.136364</td>\n",
       "      <td>0.032258</td>\n",
       "      <td>0.0</td>\n",
       "      <td>0.0</td>\n",
       "      <td>0.0</td>\n",
       "      <td>0.12</td>\n",
       "      <td>0.1</td>\n",
       "      <td>0.190476</td>\n",
       "    </tr>\n",
       "    <tr>\n",
       "      <th>998</th>\n",
       "      <td>0.181818</td>\n",
       "      <td>0.0</td>\n",
       "      <td>0.0</td>\n",
       "      <td>0.0</td>\n",
       "      <td>0.1</td>\n",
       "      <td>0.16</td>\n",
       "      <td>0.066667</td>\n",
       "      <td>0.047619</td>\n",
       "    </tr>\n",
       "    <tr>\n",
       "      <th>999</th>\n",
       "      <td>0.0</td>\n",
       "      <td>0.0</td>\n",
       "      <td>0.125</td>\n",
       "      <td>0.071429</td>\n",
       "      <td>0.1</td>\n",
       "      <td>0.0</td>\n",
       "      <td>0.2</td>\n",
       "      <td>0.142857</td>\n",
       "    </tr>\n",
       "  </tbody>\n",
       "</table>\n",
       "<p>1000 rows × 8 columns</p>\n",
       "</div>"
      ],
      "text/plain": [
       "    CC2931-L1 CC2931-L2 CC2931-L6 CC2931-L9 CC2931-L11 CC2931-L13 CC2931-L14  \\\n",
       "0    0.136364  0.129032      0.25       0.0        0.1       0.08   0.133333   \n",
       "1    0.090909  0.129032     0.375       0.0        0.1       0.08        0.1   \n",
       "2    0.272727  0.032258     0.625       0.0        0.1       0.04   0.233333   \n",
       "3    0.045455       0.0      0.25  0.071429        0.1       0.16        0.1   \n",
       "4         0.0       0.0     0.125  0.071429        0.0        0.0   0.133333   \n",
       "..        ...       ...       ...       ...        ...        ...        ...   \n",
       "995  0.181818       0.0      0.25       0.0        0.0        0.0   0.066667   \n",
       "996       0.0  0.064516       0.5       0.0        0.3       0.04   0.066667   \n",
       "997  0.136364  0.032258       0.0       0.0        0.0       0.12        0.1   \n",
       "998  0.181818       0.0       0.0       0.0        0.1       0.16   0.066667   \n",
       "999       0.0       0.0     0.125  0.071429        0.1        0.0        0.2   \n",
       "\n",
       "    CC2931-L15  \n",
       "0     0.238095  \n",
       "1     0.190476  \n",
       "2     0.095238  \n",
       "3     0.047619  \n",
       "4     0.047619  \n",
       "..         ...  \n",
       "995   0.095238  \n",
       "996   0.238095  \n",
       "997   0.190476  \n",
       "998   0.047619  \n",
       "999   0.142857  \n",
       "\n",
       "[1000 rows x 8 columns]"
      ]
     },
     "execution_count": 218,
     "metadata": {},
     "output_type": "execute_result"
    }
   ],
   "source": [
    "permutations"
   ]
  },
  {
   "cell_type": "code",
   "execution_count": 217,
   "id": "backed-request",
   "metadata": {},
   "outputs": [
    {
     "name": "stdout",
     "output_type": "stream",
     "text": [
      "CC2931-L14     0.998\n",
      "CC2931-L15     1.0\n",
      "CC2931-L1     0.975\n",
      "CC2931-L2     1.0\n",
      "CC2931-L9     0.998\n",
      "CC2931-L6     0.939\n",
      "CC2931-L11     0.967\n",
      "CC2931-L13     0.999\n"
     ]
    }
   ],
   "source": [
    "#### P value ####\n",
    "for i in df2['sample'].unique():\n",
    "    observed = df2.loc[df2['sample'] == i]['degs_in_sm'].sum()/df2.loc[df2['sample'] == i]['genes_in_sm'].sum()\n",
    "    print(i + '     ' + str(len(permutations.loc[permutations[i] < observed])/1000))"
   ]
  }
 ],
 "metadata": {
  "kernelspec": {
   "display_name": "Python [conda env:.conda-personal] *",
   "language": "python",
   "name": "conda-env-.conda-personal-py"
  },
  "language_info": {
   "codemirror_mode": {
    "name": "ipython",
    "version": 3
   },
   "file_extension": ".py",
   "mimetype": "text/x-python",
   "name": "python",
   "nbconvert_exporter": "python",
   "pygments_lexer": "ipython3",
   "version": "3.8.5"
  },
  "toc": {
   "base_numbering": 1,
   "nav_menu": {},
   "number_sections": true,
   "sideBar": true,
   "skip_h1_title": false,
   "title_cell": "Table of Contents",
   "title_sidebar": "Contents",
   "toc_cell": true,
   "toc_position": {},
   "toc_section_display": true,
   "toc_window_display": false
  }
 },
 "nbformat": 4,
 "nbformat_minor": 5
}
