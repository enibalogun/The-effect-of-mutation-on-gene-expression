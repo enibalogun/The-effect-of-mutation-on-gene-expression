{
 "cells": [
  {
   "cell_type": "markdown",
   "id": "touched-documentary",
   "metadata": {
    "toc": true
   },
   "source": [
    "<h1>Table of Contents<span class=\"tocSkip\"></span></h1>\n",
    "<div class=\"toc\"><ul class=\"toc-item\"><li><span><a href=\"#Keys\" data-toc-modified-id=\"Keys-1\"><span class=\"toc-item-num\">1&nbsp;&nbsp;</span>Keys</a></span><ul class=\"toc-item\"><li><span><a href=\"#Percent-of-mapped-reads-(64--80%)\" data-toc-modified-id=\"Percent-of-mapped-reads-(64--80%)-1.1\"><span class=\"toc-item-num\">1.1&nbsp;&nbsp;</span>Percent of mapped reads (64- 80%)</a></span></li><li><span><a href=\"#Pooling-DESeq2-DEG-data-output\" data-toc-modified-id=\"Pooling-DESeq2-DEG-data-output-1.2\"><span class=\"toc-item-num\">1.2&nbsp;&nbsp;</span>Pooling DESeq2 DEG data output</a></span></li><li><span><a href=\"#DESeq2-Filtered-raw-data\" data-toc-modified-id=\"DESeq2-Filtered-raw-data-1.3\"><span class=\"toc-item-num\">1.3&nbsp;&nbsp;</span>DESeq2 Filtered raw data</a></span></li><li><span><a href=\"#Creating-Annotation-files-with-gene-characteristics-using-GFF-files\" data-toc-modified-id=\"Creating-Annotation-files-with-gene-characteristics-using-GFF-files-1.4\"><span class=\"toc-item-num\">1.4&nbsp;&nbsp;</span>Creating Annotation files with gene characteristics using GFF files</a></span></li><li><span><a href=\"#Extracting-gene-locations-via-GFF-file\" data-toc-modified-id=\"Extracting-gene-locations-via-GFF-file-1.5\"><span class=\"toc-item-num\">1.5&nbsp;&nbsp;</span>Extracting gene locations via GFF file</a></span><ul class=\"toc-item\"><li><span><a href=\"#Isolating-the-location-of-each-Mutation\" data-toc-modified-id=\"Isolating-the-location-of-each-Mutation-1.5.1\"><span class=\"toc-item-num\">1.5.1&nbsp;&nbsp;</span>Isolating the location of each Mutation</a></span></li></ul></li><li><span><a href=\"#Extracting-iCre1355-metabolic-genes\" data-toc-modified-id=\"Extracting-iCre1355-metabolic-genes-1.6\"><span class=\"toc-item-num\">1.6&nbsp;&nbsp;</span>Extracting iCre1355 metabolic genes</a></span></li></ul></li></ul></div>"
   ]
  },
  {
   "cell_type": "markdown",
   "id": "perceived-tribune",
   "metadata": {},
   "source": [
    "# Keys"
   ]
  },
  {
   "cell_type": "code",
   "execution_count": 2,
   "id": "recorded-element",
   "metadata": {},
   "outputs": [],
   "source": [
    "import json\n",
    "import pandas as pd\n",
    "import numpy as np\n",
    "import math\n",
    "import matplotlib.pyplot as plt\n",
    "from matplotlib.figure import Figure\n",
    "from matplotlib.ticker import MaxNLocator\n",
    "from matplotlib.gridspec import GridSpec\n",
    "import seaborn as sns\n",
    "import scipy\n",
    "from scipy import stats\n",
    "from scipy.stats import mannwhitneyu\n",
    "stats.junk = lambda chisq, df: stats.chi2.sf(chisq, df)\n",
    "import csv\n",
    "import gffpandas.gffpandas as gffpd\n",
    "import statsmodels.formula.api as smf\n",
    "from statsmodels.formula.api import ols\n",
    "import os\n",
    "%load_ext rpy2.ipython"
   ]
  },
  {
   "cell_type": "markdown",
   "id": "prime-firewall",
   "metadata": {},
   "source": [
    "## Percent of mapped reads (64- 80%)"
   ]
  },
  {
   "cell_type": "code",
   "execution_count": 20,
   "id": "vertical-auction",
   "metadata": {
    "scrolled": true
   },
   "outputs": [],
   "source": [
    "# genecount = pd.DataFrame()    \n",
    "# import os,sys,re\n",
    "# import gzip\n",
    "\n",
    "# path = \"/research/projects/chlamydomonas/MAexpression/raw_data\"\n",
    "# for file in os.listdir(path):\n",
    "#     if re.fullmatch('.*\\.fastq.gz', file):\n",
    "#         fullpath = os.path.join(path, file)\n",
    "#         result = os.popen('gunzip -c ' + fullpath + ' |wc -l')\n",
    "#         output = result.read()\n",
    "#         result = int(output.split('\\n')[0])\n",
    "#         numseqs = int(result)/4.0\n",
    "#         genecount.at[file, 'total_read'] = numseqs\n",
    "#         genecount['Unnamed: 0'] = genecount['Unnamed: 0'].str.replace('_R1.fastq.gz', '').str.replace('_R2.fastq.gz', '')\n",
    "#         genecount = genecount.drop_duplicates()\n",
    "# genecount.to_csv('/research/projects/chlamydomonas/MAexpression/data/gene_count/total_mapped_reads.csv', sep = '\\t', index = True, header = True)\n",
    "\n",
    "### Finding the percent of reads mapped ####\n",
    "total_mapped_reads = pd.read_csv('/research/projects/chlamydomonas/MAexpression/data/gene_count/total_mapped_reads.csv', delimiter = '\\t', index_col = 'Unnamed: 0')\n",
    "\n",
    "for file in total_mapped_reads.index.values:\n",
    "    a = pd.read_csv('/research/projects/chlamydomonas/MAexpression/data/gene_count/summaries/' + file + '_genes_count.summary', delimiter = '\\t')\n",
    "    total_mapped_reads.at[file, 'assigned_reads'] = a.iloc[0][1]\n",
    "total_mapped_reads['percent_mapped_reads'] = total_mapped_reads['assigned_reads']/total_mapped_reads['total_read'] * 100\n",
    "total_mapped_reads.to_csv('/research/projects/chlamydomonas/MAexpression/data/gene_count/total_mapped_reads.csv', sep = '\\t', index = True, header = True)"
   ]
  },
  {
   "cell_type": "markdown",
   "id": "competitive-journal",
   "metadata": {},
   "source": [
    "## Pooling DESeq2 DEG data output"
   ]
  },
  {
   "cell_type": "code",
   "execution_count": 2,
   "id": "given-booking",
   "metadata": {
    "scrolled": true
   },
   "outputs": [
    {
     "name": "stderr",
     "output_type": "stream",
     "text": [
      "<ipython-input-2-da9916c5b58a>:17: FutureWarning: The default value of regex will change from True to False in a future version.\n",
      "  total_degs.columns = total_degs.columns.str.replace('.resSig','').str.replace('.genes','').str.replace('_', '-')\n",
      "<ipython-input-2-da9916c5b58a>:17: FutureWarning: The default value of regex will change from True to False in a future version.\n",
      "  total_degs.columns = total_degs.columns.str.replace('.resSig','').str.replace('.genes','').str.replace('_', '-')\n"
     ]
    }
   ],
   "source": [
    "dir_path = r'/research/projects/chlamydomonas/MAexpression/analysis/DEGs/degs/'\n",
    "total_degs = {}\n",
    "\n",
    "res = []\n",
    "\n",
    "# Iterate directory\n",
    "for path in os.listdir(dir_path):\n",
    "    if os.path.isfile(os.path.join(dir_path, path)):\n",
    "        res.append(path)\n",
    "\n",
    "for i in res:\n",
    "    file_deg = pd.read_csv('/research/projects/chlamydomonas/MAexpression/analysis/DEGs/degs/' + i, delimiter = ',')\n",
    "    total_degs[i] = file_deg['Unnamed: 0']\n",
    "\n",
    "total_degs = pd.DataFrame(dict([(k,pd.Series(v)) for k, v in total_degs.items()]))\n",
    "\n",
    "total_degs.columns = total_degs.columns.str.replace('.resSig','').str.replace('.genes','').str.replace('_', '-')\n",
    "total_degs.to_csv('/research/projects/chlamydomonas/MAexpression/analysis/DEGs/total_genes1.csv', sep = ',', header = True, index = False)"
   ]
  },
  {
   "cell_type": "markdown",
   "id": "animal-spoke",
   "metadata": {},
   "source": [
    "## DESeq2 Filtered raw data"
   ]
  },
  {
   "cell_type": "code",
   "execution_count": 3,
   "id": "black-society",
   "metadata": {
    "scrolled": true
   },
   "outputs": [
    {
     "name": "stderr",
     "output_type": "stream",
     "text": [
      "<ipython-input-3-d94fb13ea479>:31: SettingWithCopyWarning: \n",
      "A value is trying to be set on a copy of a slice from a DataFrame.\n",
      "Try using .loc[row_indexer,col_indexer] = value instead\n",
      "\n",
      "See the caveats in the documentation: https://pandas.pydata.org/pandas-docs/stable/user_guide/indexing.html#returning-a-view-versus-a-copy\n",
      "  CC2931_raw['CC2931-ANC'] = CC2931_raw[['CC2931-ANC-rep1', 'CC2931-ANC-rep2', 'CC2931-ANC-rep3']].mean(axis = 1)\n",
      "<ipython-input-3-d94fb13ea479>:32: SettingWithCopyWarning: \n",
      "A value is trying to be set on a copy of a slice from a DataFrame.\n",
      "Try using .loc[row_indexer,col_indexer] = value instead\n",
      "\n",
      "See the caveats in the documentation: https://pandas.pydata.org/pandas-docs/stable/user_guide/indexing.html#returning-a-view-versus-a-copy\n",
      "  CC2344_raw['CC2344-ANC'] = CC2344_raw[['CC2344-ANC-rep1', 'CC2344-ANC-rep2', 'CC2344-ANC-rep3']].mean(axis = 1)\n",
      "<ipython-input-3-d94fb13ea479>:34: SettingWithCopyWarning: \n",
      "A value is trying to be set on a copy of a slice from a DataFrame\n",
      "\n",
      "See the caveats in the documentation: https://pandas.pydata.org/pandas-docs/stable/user_guide/indexing.html#returning-a-view-versus-a-copy\n",
      "  CC2931_raw.drop(['CC2931-ANC-rep1', 'CC2931-ANC-rep2', 'CC2931-ANC-rep3'], inplace=True, axis=1)\n",
      "<ipython-input-3-d94fb13ea479>:35: SettingWithCopyWarning: \n",
      "A value is trying to be set on a copy of a slice from a DataFrame\n",
      "\n",
      "See the caveats in the documentation: https://pandas.pydata.org/pandas-docs/stable/user_guide/indexing.html#returning-a-view-versus-a-copy\n",
      "  CC2344_raw.drop(['CC2344-ANC-rep1', 'CC2344-ANC-rep2', 'CC2344-ANC-rep3'], inplace=True, axis=1)\n"
     ]
    }
   ],
   "source": [
    "CC2344_l2f = pd.read_csv('/research/projects/chlamydomonas/MAexpression/analysis/raw_counts/CC2344_log2Fold', delimiter = '\\t')\n",
    "CC2931_l2f = pd.read_csv('/research/projects/chlamydomonas/MAexpression/analysis/raw_counts/CC2931_log2Fold', delimiter = '\\t')\n",
    "\n",
    "CC2344_deseq_filtered_reads = CC2344_l2f['Unnamed: 0']\n",
    "CC2931_deseq_filtered_reads = CC2931_l2f['Unnamed: 0']\n",
    "\n",
    "#### Extracting the genes that were kept after independent filtering ####\n",
    "CC2344 = pd.read_csv('/research/projects/chlamydomonas/MAexpression/analysis/raw_counts/CC2344_deseq_normalized_wt_GC', delimiter = '\\t', index_col = 'Unnamed: 0')\n",
    "CC2344_deseq_filtered_normalized = CC2344.loc[CC2344_deseq_filtered_reads]\n",
    "CC2931 = pd.read_csv('/research/projects/chlamydomonas/MAexpression/analysis/raw_counts/CC2931_deseq_normalized_wt_GC', delimiter = '\\t', index_col = 'Unnamed: 0')\n",
    "CC2931_deseq_filtered_normalized = CC2931.loc[CC2931_deseq_filtered_reads]\n",
    "\n",
    "#### Redo Column Labels ####\n",
    "columns = CC2931_deseq_filtered_normalized.columns.str.replace('.','-', regex = True).str.replace('_', '-', regex = True)\n",
    "CC2931_deseq_filtered_normalized.columns = columns\n",
    "\n",
    "columns = CC2344_deseq_filtered_normalized.columns.str.replace('.','-', regex = True).str.replace('_', '-', regex = True)\n",
    "CC2344_deseq_filtered_normalized.columns = columns\n",
    "\n",
    "#### Saving file ####\n",
    "CC2344_deseq_filtered_normalized.to_csv('/research/projects/chlamydomonas/MAexpression/analysis/raw_counts/CC2344_deseq_filtered_normalized.txt', sep = '\\t', index = True, header = True)\n",
    "CC2931_deseq_filtered_normalized.to_csv('/research/projects/chlamydomonas/MAexpression/analysis/raw_counts/CC2931_deseq_filtered_normalized.txt', sep = '\\t', index = True, header = True)\n",
    "\n",
    "###################################################\n",
    "#### Removing gc content and total_length ####\n",
    "###################################################\n",
    "CC2344_raw = CC2344_deseq_filtered_normalized[CC2344_deseq_filtered_normalized.columns[:-2]]\n",
    "CC2931_raw = CC2931_deseq_filtered_normalized[CC2931_deseq_filtered_normalized.columns[:-2]]\n",
    "\n",
    "#### Taking the mean of the ancestral lines ####\n",
    "CC2931_raw['CC2931-ANC'] = CC2931_raw[['CC2931-ANC-rep1', 'CC2931-ANC-rep2', 'CC2931-ANC-rep3']].mean(axis = 1)\n",
    "CC2344_raw['CC2344-ANC'] = CC2344_raw[['CC2344-ANC-rep1', 'CC2344-ANC-rep2', 'CC2344-ANC-rep3']].mean(axis = 1)\n",
    "\n",
    "CC2931_raw.drop(['CC2931-ANC-rep1', 'CC2931-ANC-rep2', 'CC2931-ANC-rep3'], inplace=True, axis=1)\n",
    "CC2344_raw.drop(['CC2344-ANC-rep1', 'CC2344-ANC-rep2', 'CC2344-ANC-rep3'], inplace=True, axis=1)\n",
    "\n",
    "#### Exporting filtered raw counts ####\n",
    "CC2931_raw.to_csv('/research/projects/chlamydomonas/MAexpression/analysis/raw_counts/CC2931_raw', sep = \"\\t\", index = True, header = True)\n",
    "CC2344_raw.to_csv('/research/projects/chlamydomonas/MAexpression/analysis/raw_counts/CC2344_raw', sep = \"\\t\", index = True, header = True)"
   ]
  },
  {
   "cell_type": "markdown",
   "id": "floating-resistance",
   "metadata": {},
   "source": [
    "## Creating Annotation files with gene characteristics using GFF files"
   ]
  },
  {
   "cell_type": "code",
   "execution_count": null,
   "id": "floppy-habitat",
   "metadata": {},
   "outputs": [],
   "source": [
    "annotation = gffpd.read_gff3('/research/projects/chlamydomonas/MAexpression/genome_info/v6_genome_plus_anno/CC4532.v1_1.gene_exons.gff3')\n",
    "mRNA = annotation.df\n",
    "mRNA['attributes'] = mRNA['attributes'].str.split(';', expand = True)\n",
    "type_gene = mRNA.loc[mRNA['type'] == 'gene']\n",
    "type_gene['attributes'] = type_gene['attributes'].str.replace('ID=', '', regex = True)\n",
    "type_gene['length'] = 'nan'\n",
    "for i in list(type_gene.index.values):\n",
    "    type_gene.at[i, 'length'] = type_gene.at[i, 'end'] - type_gene.at[i, 'start']\n",
    "type_gene.to_csv('/research/projects/chlamydomonas/MAexpression/analysis/annotation/v6_genes.csv', sep = '\\t', header = True, index = False)\n",
    "\n",
    "#### ADDING THE GENE NAME TO EACH MRNA TYPE ####\n",
    "type_gene = pd.read_csv('/research/projects/chlamydomonas/MAexpression/analysis/annotation/v6_genes.csv', delimiter = '\\t')\n",
    "type_mRNA = pd.DataFrame()\n",
    "for i in list(type_gene.index.values):\n",
    "    chromosome = mRNA.loc[mRNA['seq_id'] == type_gene.loc[i, 'seq_id']]\n",
    "    pacid = chromosome.loc[chromosome['type'] == 'mRNA']\n",
    "    section = pacid.loc[(pacid['start'] == type_gene.at[i, 'start']) | (pacid['end'] == type_gene.at[i, 'end'])]\n",
    "    section['genename'] = type_gene.loc[i, 'attributes']\n",
    "    type_mRNA = type_mRNA.append(section)\n",
    "type_mRNA.to_csv('/research/projects/chlamydomonas/MAexpression/analysis/annotation/v6_mRNA.csv', sep = '\\t', index = False, header = True)\n",
    "\n",
    "#### ASSIGNING A GENENAME TO EACH CDS, EXON AND UTR ####\n",
    "edited_mRNA = pd.DataFrame()\n",
    "type_mRNA = pd.read_csv('/research/projects/chlamydomonas/MAexpression/analysis/annotation/v6_mRNA.csv', delimiter = '\\t')\n",
    "for i in list(type_mRNA.index.values):\n",
    "    prefix = type_mRNA.loc[i, 'attributes']\n",
    "    section = mRNA.loc[mRNA['attributes'].str.startswith(prefix)]\n",
    "    section['genename'] = type_mRNA.at[i, 'genename']\n",
    "    edited_mRNA = pd.concat([edited_mRNA, section])\n",
    "edited_mRNA.to_csv('/research/projects/chlamydomonas/MAexpression/analysis/annotation/edited_v6_annotation.csv', sep = '\\t', index = False, header = True)"
   ]
  },
  {
   "cell_type": "markdown",
   "id": "boolean-beginning",
   "metadata": {},
   "source": [
    "## Extracting gene locations via GFF file"
   ]
  },
  {
   "cell_type": "markdown",
   "id": "acquired-timer",
   "metadata": {},
   "source": [
    "### Isolating the location of each Mutation"
   ]
  },
  {
   "cell_type": "code",
   "execution_count": null,
   "id": "offshore-presence",
   "metadata": {},
   "outputs": [],
   "source": [
    "### OPENING ANNOTATION GFF FILES ####\n",
    "type_gene = pd.read_csv('/research/projects/chlamydomonas/MAexpression/analysis/annotation/v6_genes.csv', delimiter = '\\t')\n",
    "\n",
    "#### OPENING FILE WITH MUTATIONS AND THEIR KNOWN LOCATIONS IN V6 ####\n",
    "mutations = pd.read_csv('/research/projects/chlamydomonas/MAexpression/genome_info/mutation_info/v6_coordinates.bed', delimiter = '\\t', names = ['chromosome', 'start', 'end', 'sample'])\n",
    "mutations['sample'] = mutations['sample'].str.replace('_', '-L', regex = True)\n",
    "mutations = mutations.sort_values('sample') # There are two missing samples CC2931_8 and CC2931_12, the first one has no recorded mutations\n",
    "mutations['gene'] = 'intergenic'\n",
    "mutations['gene_start'] = np.nan\n",
    "mutations['gene_end'] = np.nan\n",
    "\n",
    "#### REMOVING ALL CC2931_12 MUTATIONS FROM THE DATAFRAME ####\n",
    "missing_CC2931_12 = mutations.loc[mutations['sample'] == 'CC2931-L12'].index.values\n",
    "mutations.drop(missing_CC2931_12, inplace = True)\n",
    "\n",
    "#### FIND THE GENE THE MUTATION OCCURRED ####\n",
    "for i in list(mutations.index.values):\n",
    "    spec_chrom = type_gene.loc[type_gene['seq_id'] == mutations.at[i, 'chromosome']]\n",
    "    spec_chrom = spec_chrom.loc[(spec_chrom['start'] <= mutations.at[i, 'start']) & (spec_chrom['end'] >= mutations.at[i, 'start'])]\n",
    "    if len(spec_chrom) != 0:\n",
    "        mutations.at[i, 'gene'] = spec_chrom['attributes'].values[0]\n",
    "        mutations.at[i, 'gene_start'] = spec_chrom['start'].values[0]\n",
    "        mutations.at[i, 'gene_end'] = spec_chrom['end'].values[0]\n",
    "    if mutations.at[i, 'gene'] == 'intergenic':\n",
    "        mutations.at[i, 'gene_start'] = mutations.at[i, 'start']\n",
    "        mutations.at[i, 'gene_end'] = mutations.at[i, 'end']\n",
    "mutations.to_csv('/research/projects/chlamydomonas/MAexpression/genome_info/mutation_info/all_mutations.csv', sep = \"\\t\", index = False, header = True)"
   ]
  },
  {
   "cell_type": "markdown",
   "id": "infrared-hartford",
   "metadata": {},
   "source": [
    "## Extracting iCre1355 metabolic genes"
   ]
  },
  {
   "cell_type": "code",
   "execution_count": 73,
   "id": "formed-glenn",
   "metadata": {},
   "outputs": [],
   "source": [
    "a = pd.read_csv('/research/projects/chlamydomonas/MAexpression/genome_info/iCre1355_Gene_transcript_map.gms.txt', delimiter = '\\t')\n",
    "a['transcripts'] = a['transcripts'].map(lambda x: x.lstrip('t(').rstrip(')=0)=0;'))\n",
    "\n",
    "for idx in a.index.values:\n",
    "    a.loc[idx] = a.loc[idx]['transcripts'].replace(\"')$(g('\", '_')\n",
    "    a.loc[idx] = a.loc[idx]['transcripts'].replace(\"'\", '')\n",
    "    \n",
    "a[['transcripts', 'gene']] = a['transcripts'].str.split('_', regex = True, expand = True)\n",
    "a.to_csv('/research/projects/chlamydomonas/MAexpression/analysis/divergence/iCre1355_genes.csv', sep = '\\t', index = False, header = True)"
   ]
  }
 ],
 "metadata": {
  "kernelspec": {
   "display_name": "Python 3",
   "language": "python",
   "name": "python3"
  },
  "language_info": {
   "codemirror_mode": {
    "name": "ipython",
    "version": 3
   },
   "file_extension": ".py",
   "mimetype": "text/x-python",
   "name": "python",
   "nbconvert_exporter": "python",
   "pygments_lexer": "ipython3",
   "version": "3.8.5"
  },
  "toc": {
   "base_numbering": 1,
   "nav_menu": {},
   "number_sections": true,
   "sideBar": true,
   "skip_h1_title": false,
   "title_cell": "Table of Contents",
   "title_sidebar": "Contents",
   "toc_cell": true,
   "toc_position": {},
   "toc_section_display": true,
   "toc_window_display": false
  }
 },
 "nbformat": 4,
 "nbformat_minor": 5
}
